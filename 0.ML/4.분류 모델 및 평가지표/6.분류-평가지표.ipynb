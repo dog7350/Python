{
 "cells": [
  {
   "cell_type": "markdown",
   "id": "7a6bca69",
   "metadata": {},
   "source": [
    "## Classification Metric\n",
    "* Metric : 학습을 통해 목표를 얼마나 잘(못) 달성했는지를 나타내는 값을 척도(metric)라고 합니다\n",
    "    - Accuracy(정확도)\n",
    "        * 전체 샘플 중 맞게 예측한 샘플 수의 비율\n",
    "    - Recall(재현율)\n",
    "        * 양성 샘플을 양성으로 맞춘 비율과 양성을 음성으로 잘못 예측한 비율\n",
    "        * 실제 음성을 양성으로 잘못 맞춰도 재현율은 떨어지지 않는다\n",
    "    - Precision(정밀도)\n",
    "        * 양성이라고 예측한 값의 비례하는 실제 값이 양성인 비율\n",
    "        * 음성을 양성으로 잘못 판단하면 정밀도는 떨어진다\n",
    "    - F1 - score\n",
    "        * Reacll과 Precision의 조화평균"
   ]
  },
  {
   "cell_type": "markdown",
   "id": "1fa86a11",
   "metadata": {},
   "source": [
    "* 평가 지표 선택\n",
    "* Accracy(정확도) : label 값이 균등할 경우\n",
    "* F1-Score : label 값이 불균등할 경우"
   ]
  },
  {
   "cell_type": "code",
   "execution_count": 1,
   "id": "437d10f2",
   "metadata": {},
   "outputs": [],
   "source": [
    "y_test = [ 0, 1, 1, 0, 0, 0, 1, 1, 1, 1 ] #실제 정답\n",
    "y_pred = [ 1, 0, 0, 0, 0, 0, 1, 1, 1, 1 ]  #예측 정답"
   ]
  },
  {
   "cell_type": "code",
   "execution_count": 2,
   "id": "3e151491",
   "metadata": {},
   "outputs": [
    {
     "data": {
      "text/plain": [
       "0.7"
      ]
     },
     "execution_count": 2,
     "metadata": {},
     "output_type": "execute_result"
    }
   ],
   "source": [
    "from sklearn.metrics import accuracy_score\n",
    "\n",
    "accuracy_score( y_test, y_pred )"
   ]
  },
  {
   "cell_type": "code",
   "execution_count": 3,
   "id": "f26e22c2",
   "metadata": {},
   "outputs": [],
   "source": [
    "y_test = [ 1, 1, 0, 1, 1, 1, 1, 1, 1, 1 ] #실제 정답\n",
    "y_pred = [ 0, 1, 1, 1, 1, 1, 1, 1, 1, 1 ] #예측 정답"
   ]
  },
  {
   "cell_type": "code",
   "execution_count": 4,
   "id": "d3351232",
   "metadata": {},
   "outputs": [
    {
     "data": {
      "text/plain": [
       "0.8"
      ]
     },
     "execution_count": 4,
     "metadata": {},
     "output_type": "execute_result"
    }
   ],
   "source": [
    "accuracy_score( y_test, y_pred )"
   ]
  },
  {
   "cell_type": "markdown",
   "id": "d4204916",
   "metadata": {},
   "source": [
    "### 재현율(recall)\n",
    "* 양성(1)이 중요한 경우"
   ]
  },
  {
   "cell_type": "code",
   "execution_count": 5,
   "id": "870a5a08",
   "metadata": {},
   "outputs": [],
   "source": [
    "y_test = [ 0, 0, 0, 1, 1, 1, 1, 1, 1, 1 ] #실제 정답\n",
    "y_pred = [ 1, 1, 1, 1, 1, 1, 1, 1, 1, 1 ] #예측 정답"
   ]
  },
  {
   "cell_type": "code",
   "execution_count": 6,
   "id": "8436ae29",
   "metadata": {},
   "outputs": [
    {
     "data": {
      "text/plain": [
       "1.0"
      ]
     },
     "execution_count": 6,
     "metadata": {},
     "output_type": "execute_result"
    }
   ],
   "source": [
    "from sklearn.metrics import recall_score\n",
    "\n",
    "recall_score( y_test, y_pred )"
   ]
  },
  {
   "cell_type": "code",
   "execution_count": 7,
   "id": "198203bb",
   "metadata": {},
   "outputs": [
    {
     "data": {
      "text/plain": [
       "0.875"
      ]
     },
     "execution_count": 7,
     "metadata": {},
     "output_type": "execute_result"
    }
   ],
   "source": [
    "y_test = [ 1, 0, 0, 1, 1, 1, 1, 1, 1, 1 ] #실제 정답\n",
    "y_pred = [ 0, 1, 1, 1, 1, 1, 1, 1, 1, 1 ] #예측 정답\n",
    "\n",
    "recall_score( y_test, y_pred )"
   ]
  },
  {
   "cell_type": "markdown",
   "id": "ee6cc369",
   "metadata": {},
   "source": [
    "* 스팸 : 1, 정상 : 0"
   ]
  },
  {
   "cell_type": "code",
   "execution_count": 8,
   "id": "113c8a46",
   "metadata": {},
   "outputs": [
    {
     "data": {
      "text/plain": [
       "1.0"
      ]
     },
     "execution_count": 8,
     "metadata": {},
     "output_type": "execute_result"
    }
   ],
   "source": [
    "y_test = [ 0, 0, 0, 1, 1, 1, 1, 1, 1, 1 ] #실제 정답\n",
    "y_pred = [ 1, 1, 1, 1, 1, 1, 1, 1, 1, 1 ] #예측 정답\n",
    "\n",
    "recall_score( y_test, y_pred )"
   ]
  },
  {
   "cell_type": "markdown",
   "id": "a3bedb3b",
   "metadata": {},
   "source": [
    "## 정밀도(precision)\n",
    "    * 실제 음성을 못맞추는 경우"
   ]
  },
  {
   "cell_type": "code",
   "execution_count": 19,
   "id": "dbf60975",
   "metadata": {},
   "outputs": [
    {
     "data": {
      "text/plain": [
       "1.0"
      ]
     },
     "execution_count": 19,
     "metadata": {},
     "output_type": "execute_result"
    }
   ],
   "source": [
    "y_test = [ 1, 1, 1, 1, 1, 1, 1, 1, 1, 1 ] #실제 정답\n",
    "y_pred = [ 0, 0, 0, 1, 1, 1, 1, 1, 1, 1 ] #예측 정답\n",
    "\n",
    "from sklearn.metrics  import precision_score\n",
    "precision_score( y_test, y_pred )"
   ]
  },
  {
   "cell_type": "code",
   "execution_count": 20,
   "id": "36a24aa3",
   "metadata": {},
   "outputs": [
    {
     "data": {
      "text/plain": [
       "0.7"
      ]
     },
     "execution_count": 20,
     "metadata": {},
     "output_type": "execute_result"
    }
   ],
   "source": [
    "y_test = [ 0, 0, 0, 1, 1, 1, 1, 1, 1, 1 ] #실제 정답\n",
    "y_pred = [ 1, 1, 1, 1, 1, 1, 1, 1, 1, 1 ] #예측 정답\n",
    "\n",
    "precision_score( y_test, y_pred )"
   ]
  },
  {
   "cell_type": "markdown",
   "id": "8944a880",
   "metadata": {},
   "source": [
    "* f1_score\n",
    "    - 정밀도와 재현율의 조화 평균\n",
    "    - label값이 불균등 할 경우 사용"
   ]
  },
  {
   "cell_type": "code",
   "execution_count": 22,
   "id": "808c1555",
   "metadata": {},
   "outputs": [],
   "source": [
    "y_test = [ 0, 0, 1, 1, 1, 1, 1, 1, 1, 1 ] #실제 정답\n",
    "y_pred = [ 1, 1, 1, 1, 1, 1, 1, 1, 1, 1 ] #예측 정답"
   ]
  },
  {
   "cell_type": "code",
   "execution_count": 23,
   "id": "953d4229",
   "metadata": {},
   "outputs": [
    {
     "name": "stdout",
     "output_type": "stream",
     "text": [
      "정확도 :  0.8\n",
      "재현율 :  1.0\n",
      "정밀도 :  0.8\n",
      "f1 :  0.888888888888889\n"
     ]
    }
   ],
   "source": [
    "from sklearn.metrics import f1_score\n",
    "\n",
    "accuracy = accuracy_score( y_test, y_pred )\n",
    "recall = recall_score( y_test, y_pred )\n",
    "precision = precision_score( y_test, y_pred )\n",
    "f1 = f1_score( y_test, y_pred )\n",
    "\n",
    "print(\"정확도 : \", accuracy)\n",
    "print(\"재현율 : \", recall)\n",
    "print(\"정밀도 : \", precision)\n",
    "print(\"f1 : \", f1)"
   ]
  },
  {
   "cell_type": "code",
   "execution_count": null,
   "id": "982dccbf",
   "metadata": {},
   "outputs": [],
   "source": []
  }
 ],
 "metadata": {
  "kernelspec": {
   "display_name": "Python 3 (ipykernel)",
   "language": "python",
   "name": "python3"
  },
  "language_info": {
   "codemirror_mode": {
    "name": "ipython",
    "version": 3
   },
   "file_extension": ".py",
   "mimetype": "text/x-python",
   "name": "python",
   "nbconvert_exporter": "python",
   "pygments_lexer": "ipython3",
   "version": "3.11.4"
  }
 },
 "nbformat": 4,
 "nbformat_minor": 5
}
