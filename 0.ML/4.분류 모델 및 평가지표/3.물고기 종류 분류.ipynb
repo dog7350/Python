{
 "cells": [
  {
   "cell_type": "markdown",
   "id": "f5d17730",
   "metadata": {},
   "source": [
    "# 시나리오\n",
    "* 수산물 시장에서 알바를 하기로 결심\n",
    "* 물고기의 기본 무게와 길이를 제어주는 기계는 존재한다.\n",
    "* 물고기의 특징을 보고 물고기의 종류를 구분해야 한다\n",
    "* 귀차니즘이 발동한 나는 자동으로 물고기를 구분해 주는 프로그램을 구현하기로 했다"
   ]
  },
  {
   "cell_type": "markdown",
   "id": "bcdec590",
   "metadata": {},
   "source": [
    "## 물고기 종류 분류하기\n",
    "* 컬럼\n",
    "    - Species : 물고기 이름\n",
    "    - weight : 두께\n",
    "    - length : 길이\n",
    "    - Diagonal : 대각선 길이\n",
    "    - Height : 세로 길이\n",
    "    - Width : 가로 길이"
   ]
  },
  {
   "cell_type": "markdown",
   "id": "8c640345",
   "metadata": {},
   "source": [
    "## 데이터 읽기"
   ]
  },
  {
   "cell_type": "code",
   "execution_count": 1,
   "id": "6367d961",
   "metadata": {},
   "outputs": [],
   "source": [
    "import pandas as pd\n",
    "import warnings\n",
    "warnings.filterwarnings(\"ignore\")"
   ]
  },
  {
   "cell_type": "code",
   "execution_count": 2,
   "id": "0eda05f8",
   "metadata": {
    "collapsed": true
   },
   "outputs": [
    {
     "data": {
      "text/html": [
       "<div>\n",
       "<style scoped>\n",
       "    .dataframe tbody tr th:only-of-type {\n",
       "        vertical-align: middle;\n",
       "    }\n",
       "\n",
       "    .dataframe tbody tr th {\n",
       "        vertical-align: top;\n",
       "    }\n",
       "\n",
       "    .dataframe thead th {\n",
       "        text-align: right;\n",
       "    }\n",
       "</style>\n",
       "<table border=\"1\" class=\"dataframe\">\n",
       "  <thead>\n",
       "    <tr style=\"text-align: right;\">\n",
       "      <th></th>\n",
       "      <th>Species</th>\n",
       "      <th>Weight</th>\n",
       "      <th>Length</th>\n",
       "      <th>Diagonal</th>\n",
       "      <th>Height</th>\n",
       "      <th>Width</th>\n",
       "    </tr>\n",
       "  </thead>\n",
       "  <tbody>\n",
       "    <tr>\n",
       "      <th>0</th>\n",
       "      <td>Bream</td>\n",
       "      <td>242.0</td>\n",
       "      <td>25.4</td>\n",
       "      <td>30.0</td>\n",
       "      <td>11.5200</td>\n",
       "      <td>4.0200</td>\n",
       "    </tr>\n",
       "    <tr>\n",
       "      <th>1</th>\n",
       "      <td>Bream</td>\n",
       "      <td>290.0</td>\n",
       "      <td>26.3</td>\n",
       "      <td>31.2</td>\n",
       "      <td>12.4800</td>\n",
       "      <td>4.3056</td>\n",
       "    </tr>\n",
       "    <tr>\n",
       "      <th>2</th>\n",
       "      <td>Bream</td>\n",
       "      <td>340.0</td>\n",
       "      <td>26.5</td>\n",
       "      <td>31.1</td>\n",
       "      <td>12.3778</td>\n",
       "      <td>4.6961</td>\n",
       "    </tr>\n",
       "    <tr>\n",
       "      <th>3</th>\n",
       "      <td>Bream</td>\n",
       "      <td>363.0</td>\n",
       "      <td>29.0</td>\n",
       "      <td>33.5</td>\n",
       "      <td>12.7300</td>\n",
       "      <td>4.4555</td>\n",
       "    </tr>\n",
       "    <tr>\n",
       "      <th>4</th>\n",
       "      <td>Bream</td>\n",
       "      <td>430.0</td>\n",
       "      <td>29.0</td>\n",
       "      <td>34.0</td>\n",
       "      <td>12.4440</td>\n",
       "      <td>5.1340</td>\n",
       "    </tr>\n",
       "  </tbody>\n",
       "</table>\n",
       "</div>"
      ],
      "text/plain": [
       "  Species  Weight  Length  Diagonal   Height   Width\n",
       "0   Bream   242.0    25.4      30.0  11.5200  4.0200\n",
       "1   Bream   290.0    26.3      31.2  12.4800  4.3056\n",
       "2   Bream   340.0    26.5      31.1  12.3778  4.6961\n",
       "3   Bream   363.0    29.0      33.5  12.7300  4.4555\n",
       "4   Bream   430.0    29.0      34.0  12.4440  5.1340"
      ]
     },
     "execution_count": 2,
     "metadata": {},
     "output_type": "execute_result"
    }
   ],
   "source": [
    "df = pd.read_csv(\"data/fish.csv\")\n",
    "df.head()"
   ]
  },
  {
   "cell_type": "code",
   "execution_count": 4,
   "id": "4b9d1380",
   "metadata": {
    "collapsed": true
   },
   "outputs": [
    {
     "data": {
      "text/plain": [
       "array(['Bream', 'Roach', 'Whitefish', 'Parkki', 'Perch', 'Pike', 'Smelt'],\n",
       "      dtype=object)"
      ]
     },
     "execution_count": 4,
     "metadata": {},
     "output_type": "execute_result"
    }
   ],
   "source": [
    "df[\"Species\"].unique()"
   ]
  },
  {
   "cell_type": "code",
   "execution_count": 5,
   "id": "8f9cdfe4",
   "metadata": {
    "collapsed": true
   },
   "outputs": [
    {
     "data": {
      "text/plain": [
       "Index(['Species', 'Weight', 'Length', 'Diagonal', 'Height', 'Width'], dtype='object')"
      ]
     },
     "execution_count": 5,
     "metadata": {},
     "output_type": "execute_result"
    }
   ],
   "source": [
    "df.columns"
   ]
  },
  {
   "cell_type": "code",
   "execution_count": 7,
   "id": "aedddf00",
   "metadata": {
    "collapsed": true
   },
   "outputs": [
    {
     "data": {
      "text/plain": [
       "(     Weight  Length  Diagonal   Height   Width\n",
       " 0     242.0    25.4      30.0  11.5200  4.0200\n",
       " 1     290.0    26.3      31.2  12.4800  4.3056\n",
       " 2     340.0    26.5      31.1  12.3778  4.6961\n",
       " 3     363.0    29.0      33.5  12.7300  4.4555\n",
       " 4     430.0    29.0      34.0  12.4440  5.1340\n",
       " ..      ...     ...       ...      ...     ...\n",
       " 154    12.2    12.2      13.4   2.0904  1.3936\n",
       " 155    13.4    12.4      13.5   2.4300  1.2690\n",
       " 156    12.2    13.0      13.8   2.2770  1.2558\n",
       " 157    19.7    14.3      15.2   2.8728  2.0672\n",
       " 158    19.9    15.0      16.2   2.9322  1.8792\n",
       " \n",
       " [159 rows x 5 columns],\n",
       " 0      Bream\n",
       " 1      Bream\n",
       " 2      Bream\n",
       " 3      Bream\n",
       " 4      Bream\n",
       "        ...  \n",
       " 154    Smelt\n",
       " 155    Smelt\n",
       " 156    Smelt\n",
       " 157    Smelt\n",
       " 158    Smelt\n",
       " Name: Species, Length: 159, dtype: object)"
      ]
     },
     "execution_count": 7,
     "metadata": {},
     "output_type": "execute_result"
    }
   ],
   "source": [
    "features = [ 'Weight', 'Length', 'Diagonal', 'Height', 'Width' ]\n",
    "label = \"Species\"\n",
    "\n",
    "X, y = df[features], df[label]\n",
    "\n",
    "X, y"
   ]
  },
  {
   "cell_type": "markdown",
   "id": "501e0f72",
   "metadata": {},
   "source": [
    "### train_test_split\n",
    "* test 데이터 : 30%\n",
    "* train(학습) 데이터 : 70%"
   ]
  },
  {
   "cell_type": "code",
   "execution_count": 24,
   "id": "3c1cab2f",
   "metadata": {},
   "outputs": [],
   "source": [
    "from sklearn.model_selection import train_test_split\n",
    "\n",
    "X_train, X_test, y_train, y_test = train_test_split( X, y, test_size=0.3 )"
   ]
  },
  {
   "cell_type": "code",
   "execution_count": 10,
   "id": "e8481e1c",
   "metadata": {
    "collapsed": true
   },
   "outputs": [
    {
     "name": "stdout",
     "output_type": "stream",
     "text": [
      "총 개수 :  (159, 5) (159,)\n",
      "학습용(train) :  (111, 5) (111,)\n",
      "테스트(test) :  (48, 5) (48,)\n"
     ]
    }
   ],
   "source": [
    "print(\"총 개수 : \", X.shape, y.shape)\n",
    "print(\"학습용(train) : \", X_train.shape, y_train.shape)\n",
    "print(\"테스트(test) : \", X_test.shape, y_test.shape)"
   ]
  },
  {
   "cell_type": "markdown",
   "id": "7b44ab9b",
   "metadata": {},
   "source": [
    "## 모델 생성 및 학습, 평가\n",
    "\n",
    "### Kneighbors (K-최근접 이웃 알고리즘)\n",
    "    * 주위의 가장 가까운 다른 데이터를 보고 현재 데이터를 판단"
   ]
  },
  {
   "cell_type": "markdown",
   "id": "4814f6f3",
   "metadata": {},
   "source": [
    "![image.png](image/kneighbors.png)"
   ]
  },
  {
   "cell_type": "code",
   "execution_count": 12,
   "id": "305ef93a",
   "metadata": {
    "collapsed": true
   },
   "outputs": [
    {
     "data": {
      "text/html": [
       "<style>#sk-container-id-1 {color: black;}#sk-container-id-1 pre{padding: 0;}#sk-container-id-1 div.sk-toggleable {background-color: white;}#sk-container-id-1 label.sk-toggleable__label {cursor: pointer;display: block;width: 100%;margin-bottom: 0;padding: 0.3em;box-sizing: border-box;text-align: center;}#sk-container-id-1 label.sk-toggleable__label-arrow:before {content: \"▸\";float: left;margin-right: 0.25em;color: #696969;}#sk-container-id-1 label.sk-toggleable__label-arrow:hover:before {color: black;}#sk-container-id-1 div.sk-estimator:hover label.sk-toggleable__label-arrow:before {color: black;}#sk-container-id-1 div.sk-toggleable__content {max-height: 0;max-width: 0;overflow: hidden;text-align: left;background-color: #f0f8ff;}#sk-container-id-1 div.sk-toggleable__content pre {margin: 0.2em;color: black;border-radius: 0.25em;background-color: #f0f8ff;}#sk-container-id-1 input.sk-toggleable__control:checked~div.sk-toggleable__content {max-height: 200px;max-width: 100%;overflow: auto;}#sk-container-id-1 input.sk-toggleable__control:checked~label.sk-toggleable__label-arrow:before {content: \"▾\";}#sk-container-id-1 div.sk-estimator input.sk-toggleable__control:checked~label.sk-toggleable__label {background-color: #d4ebff;}#sk-container-id-1 div.sk-label input.sk-toggleable__control:checked~label.sk-toggleable__label {background-color: #d4ebff;}#sk-container-id-1 input.sk-hidden--visually {border: 0;clip: rect(1px 1px 1px 1px);clip: rect(1px, 1px, 1px, 1px);height: 1px;margin: -1px;overflow: hidden;padding: 0;position: absolute;width: 1px;}#sk-container-id-1 div.sk-estimator {font-family: monospace;background-color: #f0f8ff;border: 1px dotted black;border-radius: 0.25em;box-sizing: border-box;margin-bottom: 0.5em;}#sk-container-id-1 div.sk-estimator:hover {background-color: #d4ebff;}#sk-container-id-1 div.sk-parallel-item::after {content: \"\";width: 100%;border-bottom: 1px solid gray;flex-grow: 1;}#sk-container-id-1 div.sk-label:hover label.sk-toggleable__label {background-color: #d4ebff;}#sk-container-id-1 div.sk-serial::before {content: \"\";position: absolute;border-left: 1px solid gray;box-sizing: border-box;top: 0;bottom: 0;left: 50%;z-index: 0;}#sk-container-id-1 div.sk-serial {display: flex;flex-direction: column;align-items: center;background-color: white;padding-right: 0.2em;padding-left: 0.2em;position: relative;}#sk-container-id-1 div.sk-item {position: relative;z-index: 1;}#sk-container-id-1 div.sk-parallel {display: flex;align-items: stretch;justify-content: center;background-color: white;position: relative;}#sk-container-id-1 div.sk-item::before, #sk-container-id-1 div.sk-parallel-item::before {content: \"\";position: absolute;border-left: 1px solid gray;box-sizing: border-box;top: 0;bottom: 0;left: 50%;z-index: -1;}#sk-container-id-1 div.sk-parallel-item {display: flex;flex-direction: column;z-index: 1;position: relative;background-color: white;}#sk-container-id-1 div.sk-parallel-item:first-child::after {align-self: flex-end;width: 50%;}#sk-container-id-1 div.sk-parallel-item:last-child::after {align-self: flex-start;width: 50%;}#sk-container-id-1 div.sk-parallel-item:only-child::after {width: 0;}#sk-container-id-1 div.sk-dashed-wrapped {border: 1px dashed gray;margin: 0 0.4em 0.5em 0.4em;box-sizing: border-box;padding-bottom: 0.4em;background-color: white;}#sk-container-id-1 div.sk-label label {font-family: monospace;font-weight: bold;display: inline-block;line-height: 1.2em;}#sk-container-id-1 div.sk-label-container {text-align: center;}#sk-container-id-1 div.sk-container {/* jupyter's `normalize.less` sets `[hidden] { display: none; }` but bootstrap.min.css set `[hidden] { display: none !important; }` so we also need the `!important` here to be able to override the default hidden behavior on the sphinx rendered scikit-learn.org. See: https://github.com/scikit-learn/scikit-learn/issues/21755 */display: inline-block !important;position: relative;}#sk-container-id-1 div.sk-text-repr-fallback {display: none;}</style><div id=\"sk-container-id-1\" class=\"sk-top-container\"><div class=\"sk-text-repr-fallback\"><pre>KNeighborsClassifier()</pre><b>In a Jupyter environment, please rerun this cell to show the HTML representation or trust the notebook. <br />On GitHub, the HTML representation is unable to render, please try loading this page with nbviewer.org.</b></div><div class=\"sk-container\" hidden><div class=\"sk-item\"><div class=\"sk-estimator sk-toggleable\"><input class=\"sk-toggleable__control sk-hidden--visually\" id=\"sk-estimator-id-1\" type=\"checkbox\" checked><label for=\"sk-estimator-id-1\" class=\"sk-toggleable__label sk-toggleable__label-arrow\">KNeighborsClassifier</label><div class=\"sk-toggleable__content\"><pre>KNeighborsClassifier()</pre></div></div></div></div></div>"
      ],
      "text/plain": [
       "KNeighborsClassifier()"
      ]
     },
     "execution_count": 12,
     "metadata": {},
     "output_type": "execute_result"
    }
   ],
   "source": [
    "from sklearn.neighbors import KNeighborsClassifier\n",
    "\n",
    "# 모델 생성\n",
    "kn = KNeighborsClassifier()\n",
    "\n",
    "# 학습, 속성과 정답 (70%)\n",
    "kn.fit( X_train, y_train )"
   ]
  },
  {
   "cell_type": "code",
   "execution_count": 13,
   "id": "795f8c9b",
   "metadata": {
    "collapsed": true
   },
   "outputs": [
    {
     "data": {
      "text/plain": [
       "array(['Bream', 'Bream', 'Bream', 'Bream', 'Bream', 'Perch', 'Perch',\n",
       "       'Bream', 'Perch', 'Perch', 'Bream', 'Bream', 'Bream', 'Perch',\n",
       "       'Perch', 'Perch', 'Perch', 'Bream', 'Perch', 'Bream', 'Perch',\n",
       "       'Roach', 'Perch', 'Pike', 'Perch', 'Perch', 'Smelt', 'Perch',\n",
       "       'Bream', 'Perch', 'Perch', 'Perch', 'Perch', 'Perch', 'Perch',\n",
       "       'Perch', 'Perch', 'Perch', 'Bream', 'Smelt', 'Perch', 'Perch',\n",
       "       'Perch', 'Bream', 'Bream', 'Perch', 'Bream', 'Bream'], dtype=object)"
      ]
     },
     "execution_count": 13,
     "metadata": {},
     "output_type": "execute_result"
    }
   ],
   "source": [
    "# 예측한 정답 확인, 테스트 속성 (30%)\n",
    "pred = kn.predict( X_test )\n",
    "\n",
    "pred"
   ]
  },
  {
   "cell_type": "code",
   "execution_count": 14,
   "id": "7422574e",
   "metadata": {},
   "outputs": [
    {
     "data": {
      "text/plain": [
       "0.4375"
      ]
     },
     "execution_count": 14,
     "metadata": {},
     "output_type": "execute_result"
    }
   ],
   "source": [
    "from sklearn.metrics import accuracy_score\n",
    "\n",
    "# 실제 정답과 예측 정답을 넣어주면 정확도를 알려준다\n",
    "accuracy_score(y_test, pred)"
   ]
  },
  {
   "cell_type": "code",
   "execution_count": 15,
   "id": "5e98e471",
   "metadata": {},
   "outputs": [
    {
     "data": {
      "text/plain": [
       "0.4375"
      ]
     },
     "execution_count": 15,
     "metadata": {},
     "output_type": "execute_result"
    }
   ],
   "source": [
    "kn.score( X_test, y_test )"
   ]
  },
  {
   "cell_type": "markdown",
   "id": "04b00a9c",
   "metadata": {},
   "source": [
    "### svm (Support Vector Machine)\n",
    "* 특정 데이터들을 구분하는 선을 찾고, 이를 기반으로 패턴을 인식\n",
    "* kernel : linear(선형), rbf(비선형)"
   ]
  },
  {
   "cell_type": "markdown",
   "id": "c3133697",
   "metadata": {},
   "source": [
    "![img](image/svm.png)"
   ]
  },
  {
   "cell_type": "markdown",
   "id": "e5c5ad05",
   "metadata": {},
   "source": [
    "#### linear : 선형 모델"
   ]
  },
  {
   "cell_type": "code",
   "execution_count": 17,
   "id": "3e541f8e",
   "metadata": {},
   "outputs": [
    {
     "data": {
      "text/plain": [
       "0.9375"
      ]
     },
     "execution_count": 17,
     "metadata": {},
     "output_type": "execute_result"
    }
   ],
   "source": [
    "import sklearn.svm as svm\n",
    "svm_linear = svm.SVC(kernel=\"linear\")\n",
    "svm_linear.fit( X_train, y_train )\n",
    "svm_linear.score( X_test, y_test )"
   ]
  },
  {
   "cell_type": "markdown",
   "id": "b02cafc2",
   "metadata": {},
   "source": [
    "#### rbf : 비선형 모델"
   ]
  },
  {
   "cell_type": "code",
   "execution_count": 18,
   "id": "af15af29",
   "metadata": {},
   "outputs": [
    {
     "data": {
      "text/plain": [
       "0.4166666666666667"
      ]
     },
     "execution_count": 18,
     "metadata": {},
     "output_type": "execute_result"
    }
   ],
   "source": [
    "svm_rbf = svm.SVC(kernel=\"rbf\")\n",
    "svm_rbf.fit( X_train, y_train )\n",
    "svm_rbf.score( X_test, y_test )"
   ]
  },
  {
   "cell_type": "markdown",
   "id": "78ba79f5",
   "metadata": {},
   "source": [
    "### Decision Tree\n",
    "* 특정 조건에 따라 가지치기 과정을 반복하면서 모델을 생성"
   ]
  },
  {
   "cell_type": "markdown",
   "id": "46582c73",
   "metadata": {},
   "source": [
    "![img](image/tree.png)"
   ]
  },
  {
   "cell_type": "code",
   "execution_count": 19,
   "id": "67eca91b",
   "metadata": {},
   "outputs": [
    {
     "data": {
      "text/plain": [
       "0.625"
      ]
     },
     "execution_count": 19,
     "metadata": {},
     "output_type": "execute_result"
    }
   ],
   "source": [
    "from sklearn.tree import DecisionTreeClassifier\n",
    "\n",
    "dt_clf = DecisionTreeClassifier()\n",
    "dt_clf.fit( X_train, y_train )\n",
    "dt_clf.score( X_test, y_test )"
   ]
  },
  {
   "cell_type": "markdown",
   "id": "454fd034",
   "metadata": {},
   "source": [
    "### Ensemble(앙상블)\n",
    "* 여러 개의 분류기(알고리즘)을 생성하고 예측"
   ]
  },
  {
   "cell_type": "markdown",
   "id": "b3fd22c1",
   "metadata": {},
   "source": [
    "#### 앙상블 - 보팅(Voting)\n",
    "* 서로 다른 알고리즘을 가진 분류기를 결합\n",
    "* 하드 보팅(Hard Voting) : 다수의 결정에 의해 결과값이 선정\n",
    "* 소프트 보팅(Soft Voting) : 결정된 값들의 평균을 구하고 가장 높은 값 선정\n",
    "* 일반적으로 소프트 보팅 선호"
   ]
  },
  {
   "cell_type": "markdown",
   "id": "bd6c8916",
   "metadata": {},
   "source": [
    "![img](image/보팅.png)"
   ]
  },
  {
   "cell_type": "code",
   "execution_count": 20,
   "id": "ed1bb8e6",
   "metadata": {
    "collapsed": true
   },
   "outputs": [
    {
     "data": {
      "text/html": [
       "<style>#sk-container-id-2 {color: black;}#sk-container-id-2 pre{padding: 0;}#sk-container-id-2 div.sk-toggleable {background-color: white;}#sk-container-id-2 label.sk-toggleable__label {cursor: pointer;display: block;width: 100%;margin-bottom: 0;padding: 0.3em;box-sizing: border-box;text-align: center;}#sk-container-id-2 label.sk-toggleable__label-arrow:before {content: \"▸\";float: left;margin-right: 0.25em;color: #696969;}#sk-container-id-2 label.sk-toggleable__label-arrow:hover:before {color: black;}#sk-container-id-2 div.sk-estimator:hover label.sk-toggleable__label-arrow:before {color: black;}#sk-container-id-2 div.sk-toggleable__content {max-height: 0;max-width: 0;overflow: hidden;text-align: left;background-color: #f0f8ff;}#sk-container-id-2 div.sk-toggleable__content pre {margin: 0.2em;color: black;border-radius: 0.25em;background-color: #f0f8ff;}#sk-container-id-2 input.sk-toggleable__control:checked~div.sk-toggleable__content {max-height: 200px;max-width: 100%;overflow: auto;}#sk-container-id-2 input.sk-toggleable__control:checked~label.sk-toggleable__label-arrow:before {content: \"▾\";}#sk-container-id-2 div.sk-estimator input.sk-toggleable__control:checked~label.sk-toggleable__label {background-color: #d4ebff;}#sk-container-id-2 div.sk-label input.sk-toggleable__control:checked~label.sk-toggleable__label {background-color: #d4ebff;}#sk-container-id-2 input.sk-hidden--visually {border: 0;clip: rect(1px 1px 1px 1px);clip: rect(1px, 1px, 1px, 1px);height: 1px;margin: -1px;overflow: hidden;padding: 0;position: absolute;width: 1px;}#sk-container-id-2 div.sk-estimator {font-family: monospace;background-color: #f0f8ff;border: 1px dotted black;border-radius: 0.25em;box-sizing: border-box;margin-bottom: 0.5em;}#sk-container-id-2 div.sk-estimator:hover {background-color: #d4ebff;}#sk-container-id-2 div.sk-parallel-item::after {content: \"\";width: 100%;border-bottom: 1px solid gray;flex-grow: 1;}#sk-container-id-2 div.sk-label:hover label.sk-toggleable__label {background-color: #d4ebff;}#sk-container-id-2 div.sk-serial::before {content: \"\";position: absolute;border-left: 1px solid gray;box-sizing: border-box;top: 0;bottom: 0;left: 50%;z-index: 0;}#sk-container-id-2 div.sk-serial {display: flex;flex-direction: column;align-items: center;background-color: white;padding-right: 0.2em;padding-left: 0.2em;position: relative;}#sk-container-id-2 div.sk-item {position: relative;z-index: 1;}#sk-container-id-2 div.sk-parallel {display: flex;align-items: stretch;justify-content: center;background-color: white;position: relative;}#sk-container-id-2 div.sk-item::before, #sk-container-id-2 div.sk-parallel-item::before {content: \"\";position: absolute;border-left: 1px solid gray;box-sizing: border-box;top: 0;bottom: 0;left: 50%;z-index: -1;}#sk-container-id-2 div.sk-parallel-item {display: flex;flex-direction: column;z-index: 1;position: relative;background-color: white;}#sk-container-id-2 div.sk-parallel-item:first-child::after {align-self: flex-end;width: 50%;}#sk-container-id-2 div.sk-parallel-item:last-child::after {align-self: flex-start;width: 50%;}#sk-container-id-2 div.sk-parallel-item:only-child::after {width: 0;}#sk-container-id-2 div.sk-dashed-wrapped {border: 1px dashed gray;margin: 0 0.4em 0.5em 0.4em;box-sizing: border-box;padding-bottom: 0.4em;background-color: white;}#sk-container-id-2 div.sk-label label {font-family: monospace;font-weight: bold;display: inline-block;line-height: 1.2em;}#sk-container-id-2 div.sk-label-container {text-align: center;}#sk-container-id-2 div.sk-container {/* jupyter's `normalize.less` sets `[hidden] { display: none; }` but bootstrap.min.css set `[hidden] { display: none !important; }` so we also need the `!important` here to be able to override the default hidden behavior on the sphinx rendered scikit-learn.org. See: https://github.com/scikit-learn/scikit-learn/issues/21755 */display: inline-block !important;position: relative;}#sk-container-id-2 div.sk-text-repr-fallback {display: none;}</style><div id=\"sk-container-id-2\" class=\"sk-top-container\"><div class=\"sk-text-repr-fallback\"><pre>DecisionTreeClassifier()</pre><b>In a Jupyter environment, please rerun this cell to show the HTML representation or trust the notebook. <br />On GitHub, the HTML representation is unable to render, please try loading this page with nbviewer.org.</b></div><div class=\"sk-container\" hidden><div class=\"sk-item\"><div class=\"sk-estimator sk-toggleable\"><input class=\"sk-toggleable__control sk-hidden--visually\" id=\"sk-estimator-id-2\" type=\"checkbox\" checked><label for=\"sk-estimator-id-2\" class=\"sk-toggleable__label sk-toggleable__label-arrow\">DecisionTreeClassifier</label><div class=\"sk-toggleable__content\"><pre>DecisionTreeClassifier()</pre></div></div></div></div></div>"
      ],
      "text/plain": [
       "DecisionTreeClassifier()"
      ]
     },
     "execution_count": 20,
     "metadata": {},
     "output_type": "execute_result"
    }
   ],
   "source": [
    "# probability : True (소프트 보팅시 확률로 보겠다는 의미 = 소프트 보팅 할 때 사용)\n",
    "# 기본값 : False\n",
    "svm_rbf = svm.SVC(kernel=\"rbf\", probability=True)\n",
    "svm_rbf.fit( X_train, y_train )\n",
    "\n",
    "kn = KNeighborsClassifier()\n",
    "kn.fit( X_train, y_train )\n",
    "\n",
    "dt_clf = DecisionTreeClassifier()\n",
    "dt_clf.fit( X_train, y_train )"
   ]
  },
  {
   "cell_type": "code",
   "execution_count": 22,
   "id": "a2c16158",
   "metadata": {},
   "outputs": [
    {
     "name": "stdout",
     "output_type": "stream",
     "text": [
      "svm :  0.4166666666666667\n",
      "kn :  0.4375\n",
      "dt_clf :  0.6666666666666666\n",
      "voting :  0.6041666666666666\n"
     ]
    }
   ],
   "source": [
    "from sklearn.ensemble import VotingClassifier\n",
    "\n",
    "vo = VotingClassifier( estimators=[ (\"svc\", svm_rbf), (\"knn\", kn), (\"DecisionTree\", dt_clf) ], voting=\"soft\" )\n",
    "\n",
    "vo.fit( X_train, y_train )\n",
    "\n",
    "print(\"svm : \", svm_rbf.score( X_test, y_test ))\n",
    "print(\"kn : \", kn.score( X_test, y_test ))\n",
    "print(\"dt_clf : \", dt_clf.score( X_test, y_test ))\n",
    "print(\"voting : \", vo.score( X_test, y_test ))"
   ]
  },
  {
   "cell_type": "markdown",
   "id": "2ed8f740",
   "metadata": {},
   "source": [
    "#### 앙상블 - 배깅(Bagging)\n",
    "* 같은 알고리즘으로 하나의 알고리즘을 만드는 것\n",
    "* 랜덤 포레스트 : Decision Tree 알고리즘을 여러 개의 분류기로 만들어 소프트 보팅"
   ]
  },
  {
   "cell_type": "markdown",
   "id": "404052da",
   "metadata": {},
   "source": [
    "![img](image/bagging.png)"
   ]
  },
  {
   "cell_type": "code",
   "execution_count": 25,
   "id": "68842299",
   "metadata": {},
   "outputs": [
    {
     "data": {
      "text/plain": [
       "0.7708333333333334"
      ]
     },
     "execution_count": 25,
     "metadata": {},
     "output_type": "execute_result"
    }
   ],
   "source": [
    "from sklearn.ensemble import RandomForestClassifier\n",
    "\n",
    "rfc = RandomForestClassifier()\n",
    "rfc.fit( X_train, y_train )\n",
    "rfc.score( X_test, y_test )"
   ]
  },
  {
   "cell_type": "markdown",
   "id": "839b72a1",
   "metadata": {},
   "source": [
    "#### 앙상블 - 부스팅(Boosting)\n",
    "* GBM(Gradient Boosting Machine)\n",
    "* Decision Tree를 묶어 만드는 앙상블 기법\n",
    "* 오류를 개선하는 방식\n",
    "* 다른 알고리즘에 비해 시간이 오래 걸림"
   ]
  },
  {
   "cell_type": "markdown",
   "id": "61631972",
   "metadata": {},
   "source": [
    "![img](image/GBM.png)"
   ]
  },
  {
   "cell_type": "code",
   "execution_count": 27,
   "id": "d20bdc68",
   "metadata": {},
   "outputs": [
    {
     "data": {
      "text/plain": [
       "0.8333333333333334"
      ]
     },
     "execution_count": 27,
     "metadata": {},
     "output_type": "execute_result"
    }
   ],
   "source": [
    "from sklearn.ensemble import GradientBoostingClassifier\n",
    "\n",
    "gbc = GradientBoostingClassifier()\n",
    "gbc.fit( X_train, y_train )\n",
    "gbc.score( X_test, y_test )"
   ]
  },
  {
   "cell_type": "code",
   "execution_count": 28,
   "id": "30490794",
   "metadata": {},
   "outputs": [
    {
     "data": {
      "text/html": [
       "<div>\n",
       "<style scoped>\n",
       "    .dataframe tbody tr th:only-of-type {\n",
       "        vertical-align: middle;\n",
       "    }\n",
       "\n",
       "    .dataframe tbody tr th {\n",
       "        vertical-align: top;\n",
       "    }\n",
       "\n",
       "    .dataframe thead th {\n",
       "        text-align: right;\n",
       "    }\n",
       "</style>\n",
       "<table border=\"1\" class=\"dataframe\">\n",
       "  <thead>\n",
       "    <tr style=\"text-align: right;\">\n",
       "      <th></th>\n",
       "      <th>Species</th>\n",
       "      <th>Weight</th>\n",
       "      <th>Length</th>\n",
       "      <th>Diagonal</th>\n",
       "      <th>Height</th>\n",
       "      <th>Width</th>\n",
       "    </tr>\n",
       "  </thead>\n",
       "  <tbody>\n",
       "    <tr>\n",
       "      <th>0</th>\n",
       "      <td>Bream</td>\n",
       "      <td>242.0</td>\n",
       "      <td>25.4</td>\n",
       "      <td>30.0</td>\n",
       "      <td>11.5200</td>\n",
       "      <td>4.0200</td>\n",
       "    </tr>\n",
       "    <tr>\n",
       "      <th>1</th>\n",
       "      <td>Bream</td>\n",
       "      <td>290.0</td>\n",
       "      <td>26.3</td>\n",
       "      <td>31.2</td>\n",
       "      <td>12.4800</td>\n",
       "      <td>4.3056</td>\n",
       "    </tr>\n",
       "    <tr>\n",
       "      <th>2</th>\n",
       "      <td>Bream</td>\n",
       "      <td>340.0</td>\n",
       "      <td>26.5</td>\n",
       "      <td>31.1</td>\n",
       "      <td>12.3778</td>\n",
       "      <td>4.6961</td>\n",
       "    </tr>\n",
       "  </tbody>\n",
       "</table>\n",
       "</div>"
      ],
      "text/plain": [
       "  Species  Weight  Length  Diagonal   Height   Width\n",
       "0   Bream   242.0    25.4      30.0  11.5200  4.0200\n",
       "1   Bream   290.0    26.3      31.2  12.4800  4.3056\n",
       "2   Bream   340.0    26.5      31.1  12.3778  4.6961"
      ]
     },
     "execution_count": 28,
     "metadata": {},
     "output_type": "execute_result"
    }
   ],
   "source": [
    "df.head(3)"
   ]
  },
  {
   "cell_type": "code",
   "execution_count": 32,
   "id": "79b81808",
   "metadata": {},
   "outputs": [
    {
     "data": {
      "text/plain": [
       "array(['Bream'], dtype=object)"
      ]
     },
     "execution_count": 32,
     "metadata": {},
     "output_type": "execute_result"
    }
   ],
   "source": [
    "data = [ [ 242.0, 25.4, 30.0, 11.5200, 4.0200 ] ]\n",
    "\n",
    "rfc.predict( data )"
   ]
  },
  {
   "cell_type": "code",
   "execution_count": 33,
   "id": "b0986327",
   "metadata": {},
   "outputs": [
    {
     "data": {
      "text/plain": [
       "array(['Parkki'], dtype=object)"
      ]
     },
     "execution_count": 33,
     "metadata": {},
     "output_type": "execute_result"
    }
   ],
   "source": [
    "data = [ [ 150.0, 15.4, 30.0, 11.5200, 4.0200 ] ]\n",
    "\n",
    "rfc.predict( data )"
   ]
  },
  {
   "cell_type": "code",
   "execution_count": null,
   "id": "036378c9",
   "metadata": {},
   "outputs": [],
   "source": []
  }
 ],
 "metadata": {
  "kernelspec": {
   "display_name": "Python 3 (ipykernel)",
   "language": "python",
   "name": "python3"
  },
  "language_info": {
   "codemirror_mode": {
    "name": "ipython",
    "version": 3
   },
   "file_extension": ".py",
   "mimetype": "text/x-python",
   "name": "python",
   "nbconvert_exporter": "python",
   "pygments_lexer": "ipython3",
   "version": "3.11.4"
  }
 },
 "nbformat": 4,
 "nbformat_minor": 5
}
