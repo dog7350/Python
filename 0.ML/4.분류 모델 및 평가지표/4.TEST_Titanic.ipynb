{
 "cells": [
  {
   "cell_type": "code",
   "execution_count": 1,
   "id": "8a6f0d52",
   "metadata": {},
   "outputs": [],
   "source": [
    "import pandas as pd\n",
    "import warnings\n",
    "warnings.filterwarnings(\"ignore\")"
   ]
  },
  {
   "cell_type": "code",
   "execution_count": 31,
   "id": "c7e4f0e6",
   "metadata": {
    "collapsed": true
   },
   "outputs": [
    {
     "data": {
      "text/html": [
       "<div>\n",
       "<style scoped>\n",
       "    .dataframe tbody tr th:only-of-type {\n",
       "        vertical-align: middle;\n",
       "    }\n",
       "\n",
       "    .dataframe tbody tr th {\n",
       "        vertical-align: top;\n",
       "    }\n",
       "\n",
       "    .dataframe thead th {\n",
       "        text-align: right;\n",
       "    }\n",
       "</style>\n",
       "<table border=\"1\" class=\"dataframe\">\n",
       "  <thead>\n",
       "    <tr style=\"text-align: right;\">\n",
       "      <th></th>\n",
       "      <th>PassengerId</th>\n",
       "      <th>Survived</th>\n",
       "      <th>Pclass</th>\n",
       "      <th>Sex</th>\n",
       "      <th>Age</th>\n",
       "      <th>SibSp</th>\n",
       "      <th>Parch</th>\n",
       "      <th>Fare</th>\n",
       "    </tr>\n",
       "  </thead>\n",
       "  <tbody>\n",
       "    <tr>\n",
       "      <th>0</th>\n",
       "      <td>1</td>\n",
       "      <td>0</td>\n",
       "      <td>3</td>\n",
       "      <td>0</td>\n",
       "      <td>22.000000</td>\n",
       "      <td>1</td>\n",
       "      <td>0</td>\n",
       "      <td>7.2500</td>\n",
       "    </tr>\n",
       "    <tr>\n",
       "      <th>1</th>\n",
       "      <td>2</td>\n",
       "      <td>1</td>\n",
       "      <td>1</td>\n",
       "      <td>1</td>\n",
       "      <td>38.000000</td>\n",
       "      <td>1</td>\n",
       "      <td>0</td>\n",
       "      <td>71.2833</td>\n",
       "    </tr>\n",
       "    <tr>\n",
       "      <th>2</th>\n",
       "      <td>3</td>\n",
       "      <td>1</td>\n",
       "      <td>3</td>\n",
       "      <td>1</td>\n",
       "      <td>26.000000</td>\n",
       "      <td>0</td>\n",
       "      <td>0</td>\n",
       "      <td>7.9250</td>\n",
       "    </tr>\n",
       "    <tr>\n",
       "      <th>3</th>\n",
       "      <td>4</td>\n",
       "      <td>1</td>\n",
       "      <td>1</td>\n",
       "      <td>1</td>\n",
       "      <td>35.000000</td>\n",
       "      <td>1</td>\n",
       "      <td>0</td>\n",
       "      <td>53.1000</td>\n",
       "    </tr>\n",
       "    <tr>\n",
       "      <th>4</th>\n",
       "      <td>5</td>\n",
       "      <td>0</td>\n",
       "      <td>3</td>\n",
       "      <td>0</td>\n",
       "      <td>35.000000</td>\n",
       "      <td>0</td>\n",
       "      <td>0</td>\n",
       "      <td>8.0500</td>\n",
       "    </tr>\n",
       "    <tr>\n",
       "      <th>...</th>\n",
       "      <td>...</td>\n",
       "      <td>...</td>\n",
       "      <td>...</td>\n",
       "      <td>...</td>\n",
       "      <td>...</td>\n",
       "      <td>...</td>\n",
       "      <td>...</td>\n",
       "      <td>...</td>\n",
       "    </tr>\n",
       "    <tr>\n",
       "      <th>886</th>\n",
       "      <td>887</td>\n",
       "      <td>0</td>\n",
       "      <td>2</td>\n",
       "      <td>0</td>\n",
       "      <td>27.000000</td>\n",
       "      <td>0</td>\n",
       "      <td>0</td>\n",
       "      <td>13.0000</td>\n",
       "    </tr>\n",
       "    <tr>\n",
       "      <th>887</th>\n",
       "      <td>888</td>\n",
       "      <td>1</td>\n",
       "      <td>1</td>\n",
       "      <td>1</td>\n",
       "      <td>19.000000</td>\n",
       "      <td>0</td>\n",
       "      <td>0</td>\n",
       "      <td>30.0000</td>\n",
       "    </tr>\n",
       "    <tr>\n",
       "      <th>888</th>\n",
       "      <td>889</td>\n",
       "      <td>0</td>\n",
       "      <td>3</td>\n",
       "      <td>1</td>\n",
       "      <td>29.699118</td>\n",
       "      <td>1</td>\n",
       "      <td>2</td>\n",
       "      <td>23.4500</td>\n",
       "    </tr>\n",
       "    <tr>\n",
       "      <th>889</th>\n",
       "      <td>890</td>\n",
       "      <td>1</td>\n",
       "      <td>1</td>\n",
       "      <td>0</td>\n",
       "      <td>26.000000</td>\n",
       "      <td>0</td>\n",
       "      <td>0</td>\n",
       "      <td>30.0000</td>\n",
       "    </tr>\n",
       "    <tr>\n",
       "      <th>890</th>\n",
       "      <td>891</td>\n",
       "      <td>0</td>\n",
       "      <td>3</td>\n",
       "      <td>0</td>\n",
       "      <td>32.000000</td>\n",
       "      <td>0</td>\n",
       "      <td>0</td>\n",
       "      <td>7.7500</td>\n",
       "    </tr>\n",
       "  </tbody>\n",
       "</table>\n",
       "<p>891 rows × 8 columns</p>\n",
       "</div>"
      ],
      "text/plain": [
       "     PassengerId  Survived  Pclass  Sex        Age  SibSp  Parch     Fare\n",
       "0              1         0       3    0  22.000000      1      0   7.2500\n",
       "1              2         1       1    1  38.000000      1      0  71.2833\n",
       "2              3         1       3    1  26.000000      0      0   7.9250\n",
       "3              4         1       1    1  35.000000      1      0  53.1000\n",
       "4              5         0       3    0  35.000000      0      0   8.0500\n",
       "..           ...       ...     ...  ...        ...    ...    ...      ...\n",
       "886          887         0       2    0  27.000000      0      0  13.0000\n",
       "887          888         1       1    1  19.000000      0      0  30.0000\n",
       "888          889         0       3    1  29.699118      1      2  23.4500\n",
       "889          890         1       1    0  26.000000      0      0  30.0000\n",
       "890          891         0       3    0  32.000000      0      0   7.7500\n",
       "\n",
       "[891 rows x 8 columns]"
      ]
     },
     "execution_count": 31,
     "metadata": {},
     "output_type": "execute_result"
    }
   ],
   "source": [
    "df = pd.read_csv(\"data/titanic_cleaning.csv\")\n",
    "df"
   ]
  },
  {
   "cell_type": "code",
   "execution_count": 3,
   "id": "c4c547b7",
   "metadata": {},
   "outputs": [
    {
     "data": {
      "text/plain": [
       "Index(['PassengerId', 'Survived', 'Pclass', 'Sex', 'Age', 'SibSp', 'Parch',\n",
       "       'Fare'],\n",
       "      dtype='object')"
      ]
     },
     "execution_count": 3,
     "metadata": {},
     "output_type": "execute_result"
    }
   ],
   "source": [
    "df.columns"
   ]
  },
  {
   "cell_type": "code",
   "execution_count": 4,
   "id": "0f35067c",
   "metadata": {
    "collapsed": true
   },
   "outputs": [
    {
     "data": {
      "text/plain": [
       "(     Pclass  Sex        Age  SibSp  Parch     Fare\n",
       " 0         3    0  22.000000      1      0   7.2500\n",
       " 1         1    1  38.000000      1      0  71.2833\n",
       " 2         3    1  26.000000      0      0   7.9250\n",
       " 3         1    1  35.000000      1      0  53.1000\n",
       " 4         3    0  35.000000      0      0   8.0500\n",
       " ..      ...  ...        ...    ...    ...      ...\n",
       " 886       2    0  27.000000      0      0  13.0000\n",
       " 887       1    1  19.000000      0      0  30.0000\n",
       " 888       3    1  29.699118      1      2  23.4500\n",
       " 889       1    0  26.000000      0      0  30.0000\n",
       " 890       3    0  32.000000      0      0   7.7500\n",
       " \n",
       " [891 rows x 6 columns],\n",
       " 0      0\n",
       " 1      1\n",
       " 2      1\n",
       " 3      1\n",
       " 4      0\n",
       "       ..\n",
       " 886    0\n",
       " 887    1\n",
       " 888    0\n",
       " 889    1\n",
       " 890    0\n",
       " Name: Survived, Length: 891, dtype: int64)"
      ]
     },
     "execution_count": 4,
     "metadata": {},
     "output_type": "execute_result"
    }
   ],
   "source": [
    "features = ['Pclass', 'Sex', 'Age', 'SibSp', 'Parch', 'Fare']\n",
    "label = \"Survived\"\n",
    "\n",
    "X, y = df[features], df[label]\n",
    "\n",
    "X, y"
   ]
  },
  {
   "cell_type": "code",
   "execution_count": 5,
   "id": "2546fe32",
   "metadata": {},
   "outputs": [],
   "source": [
    "from sklearn.model_selection import train_test_split\n",
    "\n",
    "X_train, X_test, y_train, y_test = train_test_split( X, y, train_size=0.2 )"
   ]
  },
  {
   "cell_type": "code",
   "execution_count": 6,
   "id": "3f38312f",
   "metadata": {},
   "outputs": [
    {
     "data": {
      "text/plain": [
       "0.7110799438990182"
      ]
     },
     "execution_count": 6,
     "metadata": {},
     "output_type": "execute_result"
    }
   ],
   "source": [
    "from sklearn.tree import DecisionTreeClassifier\n",
    "\n",
    "dt = DecisionTreeClassifier()\n",
    "dt.fit( X_train, y_train )\n",
    "dt.score( X_test, y_test )"
   ]
  },
  {
   "cell_type": "code",
   "execution_count": 7,
   "id": "a515348e",
   "metadata": {},
   "outputs": [
    {
     "data": {
      "text/plain": [
       "0.6661991584852734"
      ]
     },
     "execution_count": 7,
     "metadata": {},
     "output_type": "execute_result"
    }
   ],
   "source": [
    "from sklearn.neighbors import KNeighborsClassifier\n",
    "\n",
    "kn = KNeighborsClassifier()\n",
    "kn.fit( X_train, y_train )\n",
    "kn.score( X_test, y_test )"
   ]
  },
  {
   "cell_type": "code",
   "execution_count": 9,
   "id": "7f4decba",
   "metadata": {},
   "outputs": [
    {
     "data": {
      "text/plain": [
       "0.7303370786516854"
      ]
     },
     "execution_count": 9,
     "metadata": {},
     "output_type": "execute_result"
    }
   ],
   "source": [
    "import sklearn.svm as svm\n",
    "\n",
    "svm_linear = svm.SVC(kernel=\"linear\")\n",
    "svm_linear.fit( X_train, y_train )\n",
    "svm_linear.score( X_train, y_train )"
   ]
  },
  {
   "cell_type": "code",
   "execution_count": 10,
   "id": "f19d7c53",
   "metadata": {},
   "outputs": [
    {
     "data": {
      "text/plain": [
       "0.667601683029453"
      ]
     },
     "execution_count": 10,
     "metadata": {},
     "output_type": "execute_result"
    }
   ],
   "source": [
    "svm_rbf = svm.SVC(kernel=\"rbf\")\n",
    "svm_rbf.fit( X_train, y_train )\n",
    "svm_rbf.score( X_test, y_test )"
   ]
  },
  {
   "cell_type": "code",
   "execution_count": 13,
   "id": "9ce2376d",
   "metadata": {},
   "outputs": [
    {
     "name": "stdout",
     "output_type": "stream",
     "text": [
      "svm :  0.667601683029453\n",
      "kn :  0.6661991584852734\n",
      "dt :  0.7110799438990182\n",
      "vo :  0.729312762973352\n"
     ]
    }
   ],
   "source": [
    "svm_svot = svm.SVC(kernel=\"rbf\", probability=True)\n",
    "svm_svot.fit( X_train, y_train )\n",
    "\n",
    "from sklearn.ensemble import VotingClassifier\n",
    "\n",
    "vo = VotingClassifier( estimators=[ (\"svc\", svm_svot), (\"knn\", kn), (\"DecisionTree\", dt) ], voting=\"soft\" )\n",
    "vo.fit( X_train, y_train )\n",
    "\n",
    "print(\"svm : \", svm_svot.score( X_test, y_test ))\n",
    "print(\"kn : \", kn.score( X_test, y_test ))\n",
    "print(\"dt : \", dt.score( X_test, y_test ))\n",
    "print(\"vo : \", vo.score( X_test, y_test ))"
   ]
  },
  {
   "cell_type": "code",
   "execution_count": 14,
   "id": "b44bcb5b",
   "metadata": {},
   "outputs": [
    {
     "data": {
      "text/plain": [
       "0.7685834502103787"
      ]
     },
     "execution_count": 14,
     "metadata": {},
     "output_type": "execute_result"
    }
   ],
   "source": [
    "from sklearn.ensemble import RandomForestClassifier\n",
    "\n",
    "rfc = RandomForestClassifier()\n",
    "rfc.fit( X_train, y_train )\n",
    "rfc.score( X_test, y_test )"
   ]
  },
  {
   "cell_type": "code",
   "execution_count": 15,
   "id": "2bc023b6",
   "metadata": {},
   "outputs": [
    {
     "data": {
      "text/plain": [
       "0.7699859747545582"
      ]
     },
     "execution_count": 15,
     "metadata": {},
     "output_type": "execute_result"
    }
   ],
   "source": [
    "from sklearn.ensemble import GradientBoostingClassifier\n",
    "\n",
    "gbc = GradientBoostingClassifier()\n",
    "gbc.fit( X_train, y_train )\n",
    "gbc.score( X_test, y_test )"
   ]
  },
  {
   "cell_type": "markdown",
   "id": "7b07eb91",
   "metadata": {},
   "source": [
    "## 생존 죽음 여부 확인\n",
    "* Suvived : 0이면 사망, 1이면 생존\n",
    "* Pclass : 티켓 등급(1, 2, 3)\n",
    "* Sex : 성별(0.남성, 1.여성)\n",
    "* Age : 나이\n",
    "* SibSp : 형제, 자매, 배우자의 합\n",
    "* Parch : 부모, 자식의 합\n",
    "* Fare : 요금"
   ]
  },
  {
   "cell_type": "code",
   "execution_count": 33,
   "id": "01e81414",
   "metadata": {},
   "outputs": [
    {
     "name": "stdout",
     "output_type": "stream",
     "text": [
      "생존하셨습니다!!\n"
     ]
    }
   ],
   "source": [
    "# ['Pclass', 'Sex', 'Age', 'SibSp', 'Parch', 'Fare']\n",
    "test = [ [ 3, 0, 450, 900, 1, 1 ] ]\n",
    "\n",
    "result = gbc.predict( test )\n",
    "\n",
    "if (result[0] == 1) :\n",
    "    print(\"생존하셨습니다!!\")\n",
    "else :\n",
    "    print(\"뒈짓 ㅋㅋ\")"
   ]
  },
  {
   "cell_type": "code",
   "execution_count": null,
   "id": "838cb1bd",
   "metadata": {},
   "outputs": [],
   "source": []
  }
 ],
 "metadata": {
  "kernelspec": {
   "display_name": "Python 3 (ipykernel)",
   "language": "python",
   "name": "python3"
  },
  "language_info": {
   "codemirror_mode": {
    "name": "ipython",
    "version": 3
   },
   "file_extension": ".py",
   "mimetype": "text/x-python",
   "name": "python",
   "nbconvert_exporter": "python",
   "pygments_lexer": "ipython3",
   "version": "3.11.4"
  }
 },
 "nbformat": 4,
 "nbformat_minor": 5
}
