{
 "cells": [
  {
   "cell_type": "markdown",
   "id": "5ec7d56f",
   "metadata": {},
   "source": [
    "## 다음 데이터를 이용해 데이터 분석하라\n",
    "1. 도시별 가격 평균을 구하라\n",
    "2. 각 도시에서 과일별 가격 평균을 구하라\n",
    "3. 부산에서 가장 비싼 과일은 몇 개인지 구하라\n",
    "4. 각 도시별로 가장 비싼 가격과 가장 적은 개수를 구하라"
   ]
  },
  {
   "cell_type": "code",
   "execution_count": 1,
   "id": "91849ee1",
   "metadata": {},
   "outputs": [],
   "source": [
    "import pandas as pd\n",
    "\n",
    "df = pd.DataFrame( {\n",
    "    \"city\" : [ \"부산\", \"부산\", \"부산\", \"부산\", \"서울\", \"서울\", \"서울\" ],\n",
    "    \"fruits\" : [ \"apple\", \"orange\", \"banana\", \"banana\", \"apple\", \"apple\", \"banana\" ],\n",
    "    \"price\" : [ 100, 200, 250, 300, 150, 200, 400 ],\n",
    "    \"quantity\" : [ 1, 2, 3, 4, 5, 6, 7 ]\n",
    "} )"
   ]
  },
  {
   "cell_type": "markdown",
   "id": "23302646",
   "metadata": {},
   "source": [
    "1. 도시별 가격 평균을 구하라"
   ]
  },
  {
   "cell_type": "markdown",
   "id": "3a216bae",
   "metadata": {},
   "source": [
    "2. 각 도시에서 과일별 가격 평균을 구하라 "
   ]
  },
  {
   "cell_type": "markdown",
   "id": "33a5745f",
   "metadata": {},
   "source": [
    "3. 부산에서 가장 비싼 과일은 몇 개인지 구하라"
   ]
  },
  {
   "cell_type": "markdown",
   "id": "19975205",
   "metadata": {},
   "source": [
    "4. 각 도시별로 가장 비싼 가격과 가장 적은 개수를 구하라"
   ]
  }
 ],
 "metadata": {
  "kernelspec": {
   "display_name": "Python 3 (ipykernel)",
   "language": "python",
   "name": "python3"
  },
  "language_info": {
   "codemirror_mode": {
    "name": "ipython",
    "version": 3
   },
   "file_extension": ".py",
   "mimetype": "text/x-python",
   "name": "python",
   "nbconvert_exporter": "python",
   "pygments_lexer": "ipython3",
   "version": "3.11.4"
  }
 },
 "nbformat": 4,
 "nbformat_minor": 5
}
