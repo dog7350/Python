{
 "cells": [
  {
   "cell_type": "code",
   "execution_count": 71,
   "id": "348a018b",
   "metadata": {
    "collapsed": true
   },
   "outputs": [
    {
     "data": {
      "text/html": [
       "<div>\n",
       "<style scoped>\n",
       "    .dataframe tbody tr th:only-of-type {\n",
       "        vertical-align: middle;\n",
       "    }\n",
       "\n",
       "    .dataframe tbody tr th {\n",
       "        vertical-align: top;\n",
       "    }\n",
       "\n",
       "    .dataframe thead th {\n",
       "        text-align: right;\n",
       "    }\n",
       "</style>\n",
       "<table border=\"1\" class=\"dataframe\">\n",
       "  <thead>\n",
       "    <tr style=\"text-align: right;\">\n",
       "      <th></th>\n",
       "      <th>자전거번호</th>\n",
       "      <th>대여일시</th>\n",
       "      <th>대여소번호</th>\n",
       "      <th>대여소명</th>\n",
       "      <th>대여거치대</th>\n",
       "      <th>반납일시</th>\n",
       "      <th>반납대여소번호</th>\n",
       "      <th>반납대여소명</th>\n",
       "      <th>반납거치대</th>\n",
       "      <th>이용시간</th>\n",
       "      <th>이용거리</th>\n",
       "      <th>나이</th>\n",
       "    </tr>\n",
       "  </thead>\n",
       "  <tbody>\n",
       "    <tr>\n",
       "      <th>0</th>\n",
       "      <td>SPB-23220</td>\n",
       "      <td>2019-11-01 8:48</td>\n",
       "      <td>646</td>\n",
       "      <td>장한평역 1번출구 (국민은행앞)</td>\n",
       "      <td>3.0</td>\n",
       "      <td>2019-11-01 9:01</td>\n",
       "      <td>3</td>\n",
       "      <td>중랑센터</td>\n",
       "      <td>7.0</td>\n",
       "      <td>12.0</td>\n",
       "      <td>1100.0</td>\n",
       "      <td>50</td>\n",
       "    </tr>\n",
       "    <tr>\n",
       "      <th>1</th>\n",
       "      <td>SPB-16216</td>\n",
       "      <td>2019-11-04 8:38</td>\n",
       "      <td>646</td>\n",
       "      <td>장한평역 1번출구 (국민은행앞)</td>\n",
       "      <td>2.0</td>\n",
       "      <td>2019-11-04 8:56</td>\n",
       "      <td>3</td>\n",
       "      <td>중랑센터</td>\n",
       "      <td>2.0</td>\n",
       "      <td>7.0</td>\n",
       "      <td>1420.0</td>\n",
       "      <td>31</td>\n",
       "    </tr>\n",
       "    <tr>\n",
       "      <th>2</th>\n",
       "      <td>SPB-21097</td>\n",
       "      <td>2019-11-04 8:46</td>\n",
       "      <td>646</td>\n",
       "      <td>장한평역 1번출구 (국민은행앞)</td>\n",
       "      <td>1.0</td>\n",
       "      <td>2019-11-04 8:57</td>\n",
       "      <td>3</td>\n",
       "      <td>중랑센터</td>\n",
       "      <td>7.0</td>\n",
       "      <td>10.0</td>\n",
       "      <td>NaN</td>\n",
       "      <td>32</td>\n",
       "    </tr>\n",
       "    <tr>\n",
       "      <th>3</th>\n",
       "      <td>SPB-22292</td>\n",
       "      <td>2019-11-05 8:34</td>\n",
       "      <td>646</td>\n",
       "      <td>장한평역 1번출구 (국민은행앞)</td>\n",
       "      <td>1.0</td>\n",
       "      <td>2019-11-05 8:45</td>\n",
       "      <td>3</td>\n",
       "      <td>중랑센터</td>\n",
       "      <td>NaN</td>\n",
       "      <td>10.0</td>\n",
       "      <td>1380.0</td>\n",
       "      <td>21</td>\n",
       "    </tr>\n",
       "    <tr>\n",
       "      <th>4</th>\n",
       "      <td>SPB-07935</td>\n",
       "      <td>2019-11-05 12:29</td>\n",
       "      <td>512</td>\n",
       "      <td>뚝섬역 1번 출구 옆</td>\n",
       "      <td>11.0</td>\n",
       "      <td>2019-11-05 12:39</td>\n",
       "      <td>3</td>\n",
       "      <td>중랑센터</td>\n",
       "      <td>7.0</td>\n",
       "      <td>10.0</td>\n",
       "      <td>1650.0</td>\n",
       "      <td>120</td>\n",
       "    </tr>\n",
       "  </tbody>\n",
       "</table>\n",
       "</div>"
      ],
      "text/plain": [
       "       자전거번호              대여일시  대여소번호               대여소명  대여거치대  \\\n",
       "0  SPB-23220   2019-11-01 8:48    646  장한평역 1번출구 (국민은행앞)    3.0   \n",
       "1  SPB-16216   2019-11-04 8:38    646  장한평역 1번출구 (국민은행앞)    2.0   \n",
       "2  SPB-21097   2019-11-04 8:46    646  장한평역 1번출구 (국민은행앞)    1.0   \n",
       "3  SPB-22292   2019-11-05 8:34    646  장한평역 1번출구 (국민은행앞)    1.0   \n",
       "4  SPB-07935  2019-11-05 12:29    512        뚝섬역 1번 출구 옆   11.0   \n",
       "\n",
       "               반납일시  반납대여소번호 반납대여소명  반납거치대  이용시간    이용거리   나이  \n",
       "0   2019-11-01 9:01        3   중랑센터    7.0  12.0  1100.0   50  \n",
       "1   2019-11-04 8:56        3   중랑센터    2.0   7.0  1420.0   31  \n",
       "2   2019-11-04 8:57        3   중랑센터    7.0  10.0     NaN   32  \n",
       "3   2019-11-05 8:45        3   중랑센터    NaN  10.0  1380.0   21  \n",
       "4  2019-11-05 12:39        3   중랑센터    7.0  10.0  1650.0  120  "
      ]
     },
     "execution_count": 71,
     "metadata": {},
     "output_type": "execute_result"
    }
   ],
   "source": [
    "import pandas as pd\n",
    "import numpy as np\n",
    "\n",
    "df = pd.read_csv(\"bicycle.csv\")\n",
    "df.head()"
   ]
  },
  {
   "cell_type": "markdown",
   "id": "a0f1d9eb",
   "metadata": {},
   "source": [
    "## 결측치\n",
    "* 대여거치대는 대여소번호와 맞는 거치대의 평균값으로 진행하시오 (소수점은 버림)\n",
    "* 반납거치대는 반납대여소 번호와 맞는 최빈값으로 진행\n",
    "* 이용 시간과 이용 거리는 대여소명과 반납소명과 일치하는 중위수로 진행\n",
    "    * 참고 : df.to_dict(\"list\") DataFrame의 값을 딕셔너리 형태로 바꿔준다."
   ]
  },
  {
   "cell_type": "code",
   "execution_count": 2,
   "id": "0b38a5f7",
   "metadata": {},
   "outputs": [
    {
     "data": {
      "text/plain": [
       "23"
      ]
     },
     "execution_count": 2,
     "metadata": {},
     "output_type": "execute_result"
    }
   ],
   "source": [
    "df[\"대여거치대\"].isnull().sum()"
   ]
  },
  {
   "cell_type": "markdown",
   "id": "d9076312",
   "metadata": {},
   "source": [
    "## 문자열 (대여소명, 반납대여소명은 수치화하여 진행)\n",
    "* 대여소명은 대여소명_숫자 컬럼에 저장\n",
    "* 반납대여소명은 반납대여소명_숫자 컬럼에 저장"
   ]
  },
  {
   "cell_type": "markdown",
   "id": "fc92d50d",
   "metadata": {},
   "source": [
    "# 이상치(나이, 이용시간, 이용거리)\n",
    "* 나이는 전체 데이터의 중위수로 치환 (iqr * 3)\n",
    "* 이용 시간과 이용 거리는 각 대여소번호와 반납 대여소 번호와 일치하는 중앙값으로 처리 (iqr * 1.5)"
   ]
  },
  {
   "cell_type": "markdown",
   "id": "65d85ae5",
   "metadata": {},
   "source": [
    "## 중복값\n",
    "* 중복 행은 삭제"
   ]
  },
  {
   "cell_type": "markdown",
   "id": "b7411ae1",
   "metadata": {},
   "source": [
    "## 시계열\n",
    "* 대여 시간대별 자전거 빌리는 양을 구하라"
   ]
  }
 ],
 "metadata": {
  "kernelspec": {
   "display_name": "Python 3 (ipykernel)",
   "language": "python",
   "name": "python3"
  },
  "language_info": {
   "codemirror_mode": {
    "name": "ipython",
    "version": 3
   },
   "file_extension": ".py",
   "mimetype": "text/x-python",
   "name": "python",
   "nbconvert_exporter": "python",
   "pygments_lexer": "ipython3",
   "version": "3.11.4"
  }
 },
 "nbformat": 4,
 "nbformat_minor": 5
}
