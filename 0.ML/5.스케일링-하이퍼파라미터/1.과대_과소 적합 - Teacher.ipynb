{
 "cells": [
  {
   "cell_type": "markdown",
   "id": "5c8ae697",
   "metadata": {},
   "source": [
    "### 과대적합과 과소적합"
   ]
  },
  {
   "cell_type": "markdown",
   "id": "546cd805",
   "metadata": {},
   "source": [
    "![img](images/과대_과소적합-1.png)"
   ]
  },
  {
   "cell_type": "markdown",
   "id": "a8f33b1b",
   "metadata": {},
   "source": [
    "#### 과대적합(overfitting)\n",
    "* 훈련데이터에만 잘 맞고 테스트데이터에는 낮은 정답률"
   ]
  },
  {
   "cell_type": "markdown",
   "id": "cc083428",
   "metadata": {},
   "source": [
    "![img](images/과대적합.png)"
   ]
  },
  {
   "cell_type": "markdown",
   "id": "81004f64",
   "metadata": {},
   "source": [
    "#### 과소적합(underfitting)\n",
    "* 훈련이 제대로 이루어지지 않아 테스트 데이터보다 훈련데이터의 정답률이 낮은경우 또는 대체적으로 예측값이 낮은경우\n",
    "* 훈련데이터의 개수가 적을 경우 과소적합이 일어난다"
   ]
  },
  {
   "cell_type": "markdown",
   "id": "9267d77d",
   "metadata": {},
   "source": [
    "![img](images/과소적합.png)"
   ]
  },
  {
   "cell_type": "markdown",
   "id": "0b25c2a8",
   "metadata": {},
   "source": [
    "### 스케일링\n",
    "* 수치형 데이터들의 값의 범위가 클 경우 사용한다.(연산 속도 증가)\n",
    "    - 예를 들어 주식의 가격을 생각했을 경우 100원의 1%와 100000원의 1%를 계산하고자 한다면 같은 1%연산이지만 숫자가 클 경우 연산속도에 영향을 미치게 된다.\n",
    "* 서로 다른 변수의 값 범위를 일정한 수준으로 맞추고자 하는 경우\n",
    "* 대표적 스케일링 클래스는 StandardScaler, MinMaxScaler이 있다\n",
    "* 사용 이유\n",
    "    - 연산속도를 올릴 수 있다\n",
    "    - 확률을 높일 수 있다\n",
    "    - 과대, 과소적합을 조금은 해결할 수 있다\n",
    "* 참고\n",
    "    - 이상치가 있을 경우 범위의 차이가 커지게 되므로 이상치는 제거해야 한다\n",
    "    - RandomForest는 따로 스케일링 할 필요가 없다.(tree계열은 따로 스케일 할 필요가 없다)"
   ]
  },
  {
   "cell_type": "markdown",
   "id": "4eb7ebe7",
   "metadata": {},
   "source": [
    "#### StandardScaler(label값은 스케일 하지 않는다)\n",
    "* 사이킷런에서 서포트벡터머신, 선형회귀, 로지스틱 회귀에 적용하는 것이 예측 성능 향상에 중요한 요소가 된다.\n",
    "* 각 특성의 평균을 0, 편차를 1로 변경하여 정규분포로 만드는 것이다\n",
    "    - 편차(deviation)는 예측값과 평균의 차이\n",
    "    > ![image](images/정규분포.png)\n",
    "\n",
    "#### MinMaxScaler(label값은 스케일 하지 않는다)\n",
    "* 모든 특성이 정확하게 0과 1사이에 위치하도록 데이터를 변경\n",
    "* k-means, k-nearest neighbor등의 알고리즘에 좋은 성능을 보인다"
   ]
  },
  {
   "cell_type": "code",
   "execution_count": 2,
   "id": "30919cbb",
   "metadata": {},
   "outputs": [
    {
     "data": {
      "text/html": [
       "<div>\n",
       "<style scoped>\n",
       "    .dataframe tbody tr th:only-of-type {\n",
       "        vertical-align: middle;\n",
       "    }\n",
       "\n",
       "    .dataframe tbody tr th {\n",
       "        vertical-align: top;\n",
       "    }\n",
       "\n",
       "    .dataframe thead th {\n",
       "        text-align: right;\n",
       "    }\n",
       "</style>\n",
       "<table border=\"1\" class=\"dataframe\">\n",
       "  <thead>\n",
       "    <tr style=\"text-align: right;\">\n",
       "      <th></th>\n",
       "      <th>daum</th>\n",
       "      <th>naver</th>\n",
       "    </tr>\n",
       "  </thead>\n",
       "  <tbody>\n",
       "    <tr>\n",
       "      <th>0</th>\n",
       "      <td>2</td>\n",
       "      <td>1</td>\n",
       "    </tr>\n",
       "    <tr>\n",
       "      <th>1</th>\n",
       "      <td>4</td>\n",
       "      <td>2</td>\n",
       "    </tr>\n",
       "    <tr>\n",
       "      <th>2</th>\n",
       "      <td>6</td>\n",
       "      <td>3</td>\n",
       "    </tr>\n",
       "    <tr>\n",
       "      <th>3</th>\n",
       "      <td>8</td>\n",
       "      <td>4</td>\n",
       "    </tr>\n",
       "    <tr>\n",
       "      <th>4</th>\n",
       "      <td>10</td>\n",
       "      <td>5</td>\n",
       "    </tr>\n",
       "  </tbody>\n",
       "</table>\n",
       "</div>"
      ],
      "text/plain": [
       "   daum  naver\n",
       "0     2      1\n",
       "1     4      2\n",
       "2     6      3\n",
       "3     8      4\n",
       "4    10      5"
      ]
     },
     "execution_count": 2,
     "metadata": {},
     "output_type": "execute_result"
    }
   ],
   "source": [
    "import pandas as pd\n",
    "from sklearn.preprocessing import StandardScaler\n",
    "\n",
    "movie = {'daum':[2,4,6,8,10], 'naver':[1,2,3,4,5]}\n",
    "mv = pd.DataFrame(movie)\n",
    "mv"
   ]
  },
  {
   "cell_type": "code",
   "execution_count": 5,
   "id": "5478e1e5",
   "metadata": {},
   "outputs": [
    {
     "data": {
      "text/html": [
       "<div>\n",
       "<style scoped>\n",
       "    .dataframe tbody tr th:only-of-type {\n",
       "        vertical-align: middle;\n",
       "    }\n",
       "\n",
       "    .dataframe tbody tr th {\n",
       "        vertical-align: top;\n",
       "    }\n",
       "\n",
       "    .dataframe thead th {\n",
       "        text-align: right;\n",
       "    }\n",
       "</style>\n",
       "<table border=\"1\" class=\"dataframe\">\n",
       "  <thead>\n",
       "    <tr style=\"text-align: right;\">\n",
       "      <th></th>\n",
       "      <th>daum</th>\n",
       "      <th>naver</th>\n",
       "    </tr>\n",
       "  </thead>\n",
       "  <tbody>\n",
       "    <tr>\n",
       "      <th>0</th>\n",
       "      <td>-1.414214</td>\n",
       "      <td>-1.414214</td>\n",
       "    </tr>\n",
       "    <tr>\n",
       "      <th>1</th>\n",
       "      <td>-0.707107</td>\n",
       "      <td>-0.707107</td>\n",
       "    </tr>\n",
       "    <tr>\n",
       "      <th>2</th>\n",
       "      <td>0.000000</td>\n",
       "      <td>0.000000</td>\n",
       "    </tr>\n",
       "    <tr>\n",
       "      <th>3</th>\n",
       "      <td>0.707107</td>\n",
       "      <td>0.707107</td>\n",
       "    </tr>\n",
       "    <tr>\n",
       "      <th>4</th>\n",
       "      <td>1.414214</td>\n",
       "      <td>1.414214</td>\n",
       "    </tr>\n",
       "  </tbody>\n",
       "</table>\n",
       "</div>"
      ],
      "text/plain": [
       "       daum     naver\n",
       "0 -1.414214 -1.414214\n",
       "1 -0.707107 -0.707107\n",
       "2  0.000000  0.000000\n",
       "3  0.707107  0.707107\n",
       "4  1.414214  1.414214"
      ]
     },
     "execution_count": 5,
     "metadata": {},
     "output_type": "execute_result"
    }
   ],
   "source": [
    "standard_scaler = StandardScaler()\n",
    "scaled = standard_scaler.fit_transform( mv )\n",
    "df_sc = pd.DataFrame( data=scaled, columns=['daum','naver'])\n",
    "df_sc"
   ]
  },
  {
   "cell_type": "code",
   "execution_count": 6,
   "id": "2a393111",
   "metadata": {},
   "outputs": [
    {
     "data": {
      "text/html": [
       "<div>\n",
       "<style scoped>\n",
       "    .dataframe tbody tr th:only-of-type {\n",
       "        vertical-align: middle;\n",
       "    }\n",
       "\n",
       "    .dataframe tbody tr th {\n",
       "        vertical-align: top;\n",
       "    }\n",
       "\n",
       "    .dataframe thead th {\n",
       "        text-align: right;\n",
       "    }\n",
       "</style>\n",
       "<table border=\"1\" class=\"dataframe\">\n",
       "  <thead>\n",
       "    <tr style=\"text-align: right;\">\n",
       "      <th></th>\n",
       "      <th>daum</th>\n",
       "      <th>naver</th>\n",
       "    </tr>\n",
       "  </thead>\n",
       "  <tbody>\n",
       "    <tr>\n",
       "      <th>count</th>\n",
       "      <td>5.000000</td>\n",
       "      <td>5.000000</td>\n",
       "    </tr>\n",
       "    <tr>\n",
       "      <th>mean</th>\n",
       "      <td>0.000000</td>\n",
       "      <td>0.000000</td>\n",
       "    </tr>\n",
       "    <tr>\n",
       "      <th>std</th>\n",
       "      <td>1.118034</td>\n",
       "      <td>1.118034</td>\n",
       "    </tr>\n",
       "    <tr>\n",
       "      <th>min</th>\n",
       "      <td>-1.414214</td>\n",
       "      <td>-1.414214</td>\n",
       "    </tr>\n",
       "    <tr>\n",
       "      <th>25%</th>\n",
       "      <td>-0.707107</td>\n",
       "      <td>-0.707107</td>\n",
       "    </tr>\n",
       "    <tr>\n",
       "      <th>50%</th>\n",
       "      <td>0.000000</td>\n",
       "      <td>0.000000</td>\n",
       "    </tr>\n",
       "    <tr>\n",
       "      <th>75%</th>\n",
       "      <td>0.707107</td>\n",
       "      <td>0.707107</td>\n",
       "    </tr>\n",
       "    <tr>\n",
       "      <th>max</th>\n",
       "      <td>1.414214</td>\n",
       "      <td>1.414214</td>\n",
       "    </tr>\n",
       "  </tbody>\n",
       "</table>\n",
       "</div>"
      ],
      "text/plain": [
       "           daum     naver\n",
       "count  5.000000  5.000000\n",
       "mean   0.000000  0.000000\n",
       "std    1.118034  1.118034\n",
       "min   -1.414214 -1.414214\n",
       "25%   -0.707107 -0.707107\n",
       "50%    0.000000  0.000000\n",
       "75%    0.707107  0.707107\n",
       "max    1.414214  1.414214"
      ]
     },
     "execution_count": 6,
     "metadata": {},
     "output_type": "execute_result"
    }
   ],
   "source": [
    "df_sc.describe()"
   ]
  },
  {
   "cell_type": "code",
   "execution_count": 7,
   "id": "eb7d8794",
   "metadata": {
    "collapsed": true
   },
   "outputs": [
    {
     "data": {
      "text/html": [
       "<div>\n",
       "<style scoped>\n",
       "    .dataframe tbody tr th:only-of-type {\n",
       "        vertical-align: middle;\n",
       "    }\n",
       "\n",
       "    .dataframe tbody tr th {\n",
       "        vertical-align: top;\n",
       "    }\n",
       "\n",
       "    .dataframe thead th {\n",
       "        text-align: right;\n",
       "    }\n",
       "</style>\n",
       "<table border=\"1\" class=\"dataframe\">\n",
       "  <thead>\n",
       "    <tr style=\"text-align: right;\">\n",
       "      <th></th>\n",
       "      <th>daum</th>\n",
       "      <th>naver</th>\n",
       "    </tr>\n",
       "  </thead>\n",
       "  <tbody>\n",
       "    <tr>\n",
       "      <th>0</th>\n",
       "      <td>2</td>\n",
       "      <td>1</td>\n",
       "    </tr>\n",
       "    <tr>\n",
       "      <th>1</th>\n",
       "      <td>4</td>\n",
       "      <td>2</td>\n",
       "    </tr>\n",
       "    <tr>\n",
       "      <th>2</th>\n",
       "      <td>6</td>\n",
       "      <td>3</td>\n",
       "    </tr>\n",
       "    <tr>\n",
       "      <th>3</th>\n",
       "      <td>8</td>\n",
       "      <td>4</td>\n",
       "    </tr>\n",
       "    <tr>\n",
       "      <th>4</th>\n",
       "      <td>10</td>\n",
       "      <td>5</td>\n",
       "    </tr>\n",
       "  </tbody>\n",
       "</table>\n",
       "</div>"
      ],
      "text/plain": [
       "   daum  naver\n",
       "0     2      1\n",
       "1     4      2\n",
       "2     6      3\n",
       "3     8      4\n",
       "4    10      5"
      ]
     },
     "execution_count": 7,
     "metadata": {},
     "output_type": "execute_result"
    }
   ],
   "source": [
    "from sklearn.preprocessing import MinMaxScaler\n",
    "mv"
   ]
  },
  {
   "cell_type": "code",
   "execution_count": 8,
   "id": "c2b0c3cd",
   "metadata": {},
   "outputs": [
    {
     "data": {
      "text/plain": [
       "array([[0.  , 0.  ],\n",
       "       [0.25, 0.25],\n",
       "       [0.5 , 0.5 ],\n",
       "       [0.75, 0.75],\n",
       "       [1.  , 1.  ]])"
      ]
     },
     "execution_count": 8,
     "metadata": {},
     "output_type": "execute_result"
    }
   ],
   "source": [
    "min_max_scaler = MinMaxScaler()\n",
    "min_max_mv = min_max_scaler.fit_transform(mv)\n",
    "min_max_mv"
   ]
  },
  {
   "cell_type": "markdown",
   "id": "75015212",
   "metadata": {},
   "source": [
    "#### 스케일링"
   ]
  },
  {
   "cell_type": "code",
   "execution_count": 9,
   "id": "0786793c",
   "metadata": {},
   "outputs": [
    {
     "data": {
      "text/html": [
       "<div>\n",
       "<style scoped>\n",
       "    .dataframe tbody tr th:only-of-type {\n",
       "        vertical-align: middle;\n",
       "    }\n",
       "\n",
       "    .dataframe tbody tr th {\n",
       "        vertical-align: top;\n",
       "    }\n",
       "\n",
       "    .dataframe thead th {\n",
       "        text-align: right;\n",
       "    }\n",
       "</style>\n",
       "<table border=\"1\" class=\"dataframe\">\n",
       "  <thead>\n",
       "    <tr style=\"text-align: right;\">\n",
       "      <th></th>\n",
       "      <th>age</th>\n",
       "      <th>duration</th>\n",
       "      <th>campaign</th>\n",
       "      <th>pdays</th>\n",
       "      <th>previous</th>\n",
       "      <th>y</th>\n",
       "    </tr>\n",
       "  </thead>\n",
       "  <tbody>\n",
       "    <tr>\n",
       "      <th>0</th>\n",
       "      <td>56</td>\n",
       "      <td>261</td>\n",
       "      <td>1</td>\n",
       "      <td>999</td>\n",
       "      <td>0</td>\n",
       "      <td>0</td>\n",
       "    </tr>\n",
       "    <tr>\n",
       "      <th>1</th>\n",
       "      <td>57</td>\n",
       "      <td>149</td>\n",
       "      <td>1</td>\n",
       "      <td>999</td>\n",
       "      <td>0</td>\n",
       "      <td>0</td>\n",
       "    </tr>\n",
       "    <tr>\n",
       "      <th>2</th>\n",
       "      <td>37</td>\n",
       "      <td>226</td>\n",
       "      <td>1</td>\n",
       "      <td>999</td>\n",
       "      <td>0</td>\n",
       "      <td>0</td>\n",
       "    </tr>\n",
       "    <tr>\n",
       "      <th>3</th>\n",
       "      <td>40</td>\n",
       "      <td>151</td>\n",
       "      <td>1</td>\n",
       "      <td>999</td>\n",
       "      <td>0</td>\n",
       "      <td>0</td>\n",
       "    </tr>\n",
       "    <tr>\n",
       "      <th>4</th>\n",
       "      <td>56</td>\n",
       "      <td>307</td>\n",
       "      <td>1</td>\n",
       "      <td>999</td>\n",
       "      <td>0</td>\n",
       "      <td>0</td>\n",
       "    </tr>\n",
       "  </tbody>\n",
       "</table>\n",
       "</div>"
      ],
      "text/plain": [
       "   age  duration  campaign  pdays  previous  y\n",
       "0   56       261         1    999         0  0\n",
       "1   57       149         1    999         0  0\n",
       "2   37       226         1    999         0  0\n",
       "3   40       151         1    999         0  0\n",
       "4   56       307         1    999         0  0"
      ]
     },
     "execution_count": 9,
     "metadata": {},
     "output_type": "execute_result"
    }
   ],
   "source": [
    "df = pd.read_csv(\"data/bank_cleaning.csv\")\n",
    "df.head()"
   ]
  },
  {
   "cell_type": "code",
   "execution_count": 10,
   "id": "1fb029b1",
   "metadata": {},
   "outputs": [
    {
     "data": {
      "text/plain": [
       "Index(['age', 'duration', 'campaign', 'pdays', 'previous', 'y'], dtype='object')"
      ]
     },
     "execution_count": 10,
     "metadata": {},
     "output_type": "execute_result"
    }
   ],
   "source": [
    "df.columns"
   ]
  },
  {
   "cell_type": "code",
   "execution_count": 11,
   "id": "90af2612",
   "metadata": {
    "collapsed": true
   },
   "outputs": [
    {
     "data": {
      "text/plain": [
       "(       age  duration  campaign  pdays  previous\n",
       " 0       56       261         1    999         0\n",
       " 1       57       149         1    999         0\n",
       " 2       37       226         1    999         0\n",
       " 3       40       151         1    999         0\n",
       " 4       56       307         1    999         0\n",
       " ...    ...       ...       ...    ...       ...\n",
       " 41183   73       334         1    999         0\n",
       " 41184   46       383         1    999         0\n",
       " 41185   56       189         2    999         0\n",
       " 41186   44       442         1    999         0\n",
       " 41187   74       239         3    999         1\n",
       " \n",
       " [41188 rows x 5 columns],\n",
       " 0        0\n",
       " 1        0\n",
       " 2        0\n",
       " 3        0\n",
       " 4        0\n",
       "         ..\n",
       " 41183    1\n",
       " 41184    0\n",
       " 41185    0\n",
       " 41186    1\n",
       " 41187    0\n",
       " Name: y, Length: 41188, dtype: int64)"
      ]
     },
     "execution_count": 11,
     "metadata": {},
     "output_type": "execute_result"
    }
   ],
   "source": [
    "features = ['age', 'duration', 'campaign', 'pdays', 'previous' ]\n",
    "label = 'y'\n",
    "X, y = df[features], df[label]\n",
    "X, y"
   ]
  },
  {
   "cell_type": "code",
   "execution_count": 12,
   "id": "2affa2fa",
   "metadata": {},
   "outputs": [],
   "source": [
    "from sklearn.model_selection import train_test_split\n",
    "X_train, X_test, y_train, y_test = \\\n",
    "            train_test_split( X, y, test_size=0.3 )"
   ]
  },
  {
   "cell_type": "code",
   "execution_count": 13,
   "id": "98e875fa",
   "metadata": {},
   "outputs": [
    {
     "name": "stdout",
     "output_type": "stream",
     "text": [
      "0.9908778745100759\n",
      "0.890507404709881\n"
     ]
    }
   ],
   "source": [
    "from sklearn.ensemble import RandomForestClassifier\n",
    "rfc = RandomForestClassifier()\n",
    "rfc.fit( X_train, y_train )\n",
    "print( rfc.score(X_train, y_train) )\n",
    "print( rfc.score(X_test, y_test) )"
   ]
  },
  {
   "cell_type": "code",
   "execution_count": 15,
   "id": "274aed86",
   "metadata": {},
   "outputs": [
    {
     "name": "stdout",
     "output_type": "stream",
     "text": [
      "0.9909472442856647\n",
      "0.8895362952172857\n"
     ]
    }
   ],
   "source": [
    "scaled = StandardScaler()\n",
    "scaled.fit( X_train )\n",
    "\n",
    "X_train_scaler = scaled.transform( X_train )\n",
    "X_test_scaler = scaled.transform( X_test )\n",
    "\n",
    "rfc.fit( X_train_scaler, y_train ) \n",
    "\n",
    "print( rfc.score(X_train_scaler, y_train) )\n",
    "print( rfc.score(X_test_scaler, y_test) )"
   ]
  },
  {
   "cell_type": "code",
   "execution_count": 16,
   "id": "77d58b78",
   "metadata": {},
   "outputs": [
    {
     "name": "stdout",
     "output_type": "stream",
     "text": [
      "0.9909472442856647\n",
      "0.8897790725904345\n"
     ]
    }
   ],
   "source": [
    "scaled = MinMaxScaler()\n",
    "scaled.fit( X_train )\n",
    "\n",
    "X_train_scaler = scaled.transform( X_train )\n",
    "X_test_scaler = scaled.transform( X_test )\n",
    "\n",
    "rfc.fit( X_train_scaler, y_train )\n",
    "\n",
    "print( rfc.score(X_train_scaler, y_train) )\n",
    "print( rfc.score(X_test_scaler, y_test) )"
   ]
  },
  {
   "cell_type": "markdown",
   "id": "6872c989",
   "metadata": {},
   "source": [
    "### 상관관계\n",
    "* 특정 변수들 끼리의 관계가 높은값을 제거하면 과적합을 줄일 수 있다"
   ]
  },
  {
   "cell_type": "code",
   "execution_count": 21,
   "id": "facf9625",
   "metadata": {},
   "outputs": [
    {
     "data": {
      "text/html": [
       "<div>\n",
       "<style scoped>\n",
       "    .dataframe tbody tr th:only-of-type {\n",
       "        vertical-align: middle;\n",
       "    }\n",
       "\n",
       "    .dataframe tbody tr th {\n",
       "        vertical-align: top;\n",
       "    }\n",
       "\n",
       "    .dataframe thead th {\n",
       "        text-align: right;\n",
       "    }\n",
       "</style>\n",
       "<table border=\"1\" class=\"dataframe\">\n",
       "  <thead>\n",
       "    <tr style=\"text-align: right;\">\n",
       "      <th></th>\n",
       "      <th>age</th>\n",
       "      <th>duration</th>\n",
       "      <th>campaign</th>\n",
       "      <th>pdays</th>\n",
       "      <th>previous</th>\n",
       "      <th>y</th>\n",
       "    </tr>\n",
       "  </thead>\n",
       "  <tbody>\n",
       "    <tr>\n",
       "      <th>0</th>\n",
       "      <td>56</td>\n",
       "      <td>261</td>\n",
       "      <td>1</td>\n",
       "      <td>999</td>\n",
       "      <td>0</td>\n",
       "      <td>0</td>\n",
       "    </tr>\n",
       "    <tr>\n",
       "      <th>1</th>\n",
       "      <td>57</td>\n",
       "      <td>149</td>\n",
       "      <td>1</td>\n",
       "      <td>999</td>\n",
       "      <td>0</td>\n",
       "      <td>0</td>\n",
       "    </tr>\n",
       "    <tr>\n",
       "      <th>2</th>\n",
       "      <td>37</td>\n",
       "      <td>226</td>\n",
       "      <td>1</td>\n",
       "      <td>999</td>\n",
       "      <td>0</td>\n",
       "      <td>0</td>\n",
       "    </tr>\n",
       "    <tr>\n",
       "      <th>3</th>\n",
       "      <td>40</td>\n",
       "      <td>151</td>\n",
       "      <td>1</td>\n",
       "      <td>999</td>\n",
       "      <td>0</td>\n",
       "      <td>0</td>\n",
       "    </tr>\n",
       "    <tr>\n",
       "      <th>4</th>\n",
       "      <td>56</td>\n",
       "      <td>307</td>\n",
       "      <td>1</td>\n",
       "      <td>999</td>\n",
       "      <td>0</td>\n",
       "      <td>0</td>\n",
       "    </tr>\n",
       "  </tbody>\n",
       "</table>\n",
       "</div>"
      ],
      "text/plain": [
       "   age  duration  campaign  pdays  previous  y\n",
       "0   56       261         1    999         0  0\n",
       "1   57       149         1    999         0  0\n",
       "2   37       226         1    999         0  0\n",
       "3   40       151         1    999         0  0\n",
       "4   56       307         1    999         0  0"
      ]
     },
     "execution_count": 21,
     "metadata": {},
     "output_type": "execute_result"
    }
   ],
   "source": [
    "df.head()"
   ]
  },
  {
   "cell_type": "code",
   "execution_count": 17,
   "id": "8b8664a9",
   "metadata": {
    "collapsed": true
   },
   "outputs": [
    {
     "data": {
      "text/html": [
       "<div>\n",
       "<style scoped>\n",
       "    .dataframe tbody tr th:only-of-type {\n",
       "        vertical-align: middle;\n",
       "    }\n",
       "\n",
       "    .dataframe tbody tr th {\n",
       "        vertical-align: top;\n",
       "    }\n",
       "\n",
       "    .dataframe thead th {\n",
       "        text-align: right;\n",
       "    }\n",
       "</style>\n",
       "<table border=\"1\" class=\"dataframe\">\n",
       "  <thead>\n",
       "    <tr style=\"text-align: right;\">\n",
       "      <th></th>\n",
       "      <th>age</th>\n",
       "      <th>duration</th>\n",
       "      <th>campaign</th>\n",
       "      <th>pdays</th>\n",
       "      <th>previous</th>\n",
       "      <th>y</th>\n",
       "    </tr>\n",
       "  </thead>\n",
       "  <tbody>\n",
       "    <tr>\n",
       "      <th>age</th>\n",
       "      <td>1.000000</td>\n",
       "      <td>-0.000866</td>\n",
       "      <td>0.004594</td>\n",
       "      <td>-0.034369</td>\n",
       "      <td>0.024365</td>\n",
       "      <td>0.030399</td>\n",
       "    </tr>\n",
       "    <tr>\n",
       "      <th>duration</th>\n",
       "      <td>-0.000866</td>\n",
       "      <td>1.000000</td>\n",
       "      <td>-0.071699</td>\n",
       "      <td>-0.047577</td>\n",
       "      <td>0.020640</td>\n",
       "      <td>0.405274</td>\n",
       "    </tr>\n",
       "    <tr>\n",
       "      <th>campaign</th>\n",
       "      <td>0.004594</td>\n",
       "      <td>-0.071699</td>\n",
       "      <td>1.000000</td>\n",
       "      <td>0.052584</td>\n",
       "      <td>-0.079141</td>\n",
       "      <td>-0.066357</td>\n",
       "    </tr>\n",
       "    <tr>\n",
       "      <th>pdays</th>\n",
       "      <td>-0.034369</td>\n",
       "      <td>-0.047577</td>\n",
       "      <td>0.052584</td>\n",
       "      <td>1.000000</td>\n",
       "      <td>-0.587514</td>\n",
       "      <td>-0.324914</td>\n",
       "    </tr>\n",
       "    <tr>\n",
       "      <th>previous</th>\n",
       "      <td>0.024365</td>\n",
       "      <td>0.020640</td>\n",
       "      <td>-0.079141</td>\n",
       "      <td>-0.587514</td>\n",
       "      <td>1.000000</td>\n",
       "      <td>0.230181</td>\n",
       "    </tr>\n",
       "    <tr>\n",
       "      <th>y</th>\n",
       "      <td>0.030399</td>\n",
       "      <td>0.405274</td>\n",
       "      <td>-0.066357</td>\n",
       "      <td>-0.324914</td>\n",
       "      <td>0.230181</td>\n",
       "      <td>1.000000</td>\n",
       "    </tr>\n",
       "  </tbody>\n",
       "</table>\n",
       "</div>"
      ],
      "text/plain": [
       "               age  duration  campaign     pdays  previous         y\n",
       "age       1.000000 -0.000866  0.004594 -0.034369  0.024365  0.030399\n",
       "duration -0.000866  1.000000 -0.071699 -0.047577  0.020640  0.405274\n",
       "campaign  0.004594 -0.071699  1.000000  0.052584 -0.079141 -0.066357\n",
       "pdays    -0.034369 -0.047577  0.052584  1.000000 -0.587514 -0.324914\n",
       "previous  0.024365  0.020640 -0.079141 -0.587514  1.000000  0.230181\n",
       "y         0.030399  0.405274 -0.066357 -0.324914  0.230181  1.000000"
      ]
     },
     "execution_count": 17,
     "metadata": {},
     "output_type": "execute_result"
    }
   ],
   "source": [
    "df.corr()"
   ]
  },
  {
   "cell_type": "code",
   "execution_count": 20,
   "id": "1e4fed7b",
   "metadata": {
    "collapsed": true
   },
   "outputs": [
    {
     "data": {
      "text/plain": [
       "<AxesSubplot:>"
      ]
     },
     "execution_count": 20,
     "metadata": {},
     "output_type": "execute_result"
    },
    {
     "data": {
      "image/png": "[encoded data removed]",
      "text/plain": [
       "<Figure size 640x480 with 2 Axes>"
      ]
     },
     "metadata": {},
     "output_type": "display_data"
    }
   ],
   "source": [
    "import seaborn as sns\n",
    "sns.heatmap( df.corr(), annot=True )"
   ]
  },
  {
   "cell_type": "code",
   "execution_count": 22,
   "id": "0c34ae4e",
   "metadata": {},
   "outputs": [
    {
     "data": {
      "text/plain": [
       "Index(['age', 'duration', 'campaign', 'pdays', 'previous', 'y'], dtype='object')"
      ]
     },
     "execution_count": 22,
     "metadata": {},
     "output_type": "execute_result"
    }
   ],
   "source": [
    "df.columns"
   ]
  },
  {
   "cell_type": "code",
   "execution_count": 23,
   "id": "4723c36f",
   "metadata": {},
   "outputs": [
    {
     "name": "stdout",
     "output_type": "stream",
     "text": [
      "0.9115188512365162\n",
      "0.8935016589787165\n"
     ]
    }
   ],
   "source": [
    "features = ['age', 'campaign', 'pdays', 'previous' ]\n",
    "label = \"y\"\n",
    "\n",
    "X, y = df[features] , df[label]\n",
    "\n",
    "X_train, X_test, y_train, y_test =\\\n",
    "            train_test_split(X, y, test_size=0.3)\n",
    "\n",
    "rfc.fit( X_train, y_train )\n",
    "\n",
    "print( rfc.score(X_train, y_train) )\n",
    "print( rfc.score(X_test, y_test) )"
   ]
  },
  {
   "cell_type": "code",
   "execution_count": 24,
   "id": "0a9d4160",
   "metadata": {},
   "outputs": [
    {
     "name": "stdout",
     "output_type": "stream",
     "text": [
      "0.9130796711872637\n",
      "0.8905883305009307\n"
     ]
    }
   ],
   "source": [
    "scaled = StandardScaler()\n",
    "scaled.fit( X )\n",
    "X_scaler = scaled.transform( X )\n",
    "\n",
    "X_train, X_test, y_train, y_test = \\\n",
    "            train_test_split( X_scaler, y , test_size=0.3)\n",
    "\n",
    "rfc.fit( X_train, y_train )\n",
    "\n",
    "print( rfc.score(X_train, y_train ) )\n",
    "print( rfc.score(X_test, y_test ) )"
   ]
  },
  {
   "cell_type": "markdown",
   "id": "c32da913",
   "metadata": {},
   "source": [
    "### 타이타닉 스케일 test"
   ]
  },
  {
   "cell_type": "code",
   "execution_count": 25,
   "id": "2b8b3cb1",
   "metadata": {
    "collapsed": true
   },
   "outputs": [
    {
     "data": {
      "text/html": [
       "<div>\n",
       "<style scoped>\n",
       "    .dataframe tbody tr th:only-of-type {\n",
       "        vertical-align: middle;\n",
       "    }\n",
       "\n",
       "    .dataframe tbody tr th {\n",
       "        vertical-align: top;\n",
       "    }\n",
       "\n",
       "    .dataframe thead th {\n",
       "        text-align: right;\n",
       "    }\n",
       "</style>\n",
       "<table border=\"1\" class=\"dataframe\">\n",
       "  <thead>\n",
       "    <tr style=\"text-align: right;\">\n",
       "      <th></th>\n",
       "      <th>PassengerId</th>\n",
       "      <th>Survived</th>\n",
       "      <th>Pclass</th>\n",
       "      <th>Sex</th>\n",
       "      <th>Age</th>\n",
       "      <th>SibSp</th>\n",
       "      <th>Parch</th>\n",
       "      <th>Fare</th>\n",
       "    </tr>\n",
       "  </thead>\n",
       "  <tbody>\n",
       "    <tr>\n",
       "      <th>0</th>\n",
       "      <td>1</td>\n",
       "      <td>0</td>\n",
       "      <td>3</td>\n",
       "      <td>0</td>\n",
       "      <td>22.0</td>\n",
       "      <td>1</td>\n",
       "      <td>0</td>\n",
       "      <td>7.2500</td>\n",
       "    </tr>\n",
       "    <tr>\n",
       "      <th>1</th>\n",
       "      <td>2</td>\n",
       "      <td>1</td>\n",
       "      <td>1</td>\n",
       "      <td>1</td>\n",
       "      <td>38.0</td>\n",
       "      <td>1</td>\n",
       "      <td>0</td>\n",
       "      <td>71.2833</td>\n",
       "    </tr>\n",
       "    <tr>\n",
       "      <th>2</th>\n",
       "      <td>3</td>\n",
       "      <td>1</td>\n",
       "      <td>3</td>\n",
       "      <td>1</td>\n",
       "      <td>26.0</td>\n",
       "      <td>0</td>\n",
       "      <td>0</td>\n",
       "      <td>7.9250</td>\n",
       "    </tr>\n",
       "    <tr>\n",
       "      <th>3</th>\n",
       "      <td>4</td>\n",
       "      <td>1</td>\n",
       "      <td>1</td>\n",
       "      <td>1</td>\n",
       "      <td>35.0</td>\n",
       "      <td>1</td>\n",
       "      <td>0</td>\n",
       "      <td>53.1000</td>\n",
       "    </tr>\n",
       "    <tr>\n",
       "      <th>4</th>\n",
       "      <td>5</td>\n",
       "      <td>0</td>\n",
       "      <td>3</td>\n",
       "      <td>0</td>\n",
       "      <td>35.0</td>\n",
       "      <td>0</td>\n",
       "      <td>0</td>\n",
       "      <td>8.0500</td>\n",
       "    </tr>\n",
       "  </tbody>\n",
       "</table>\n",
       "</div>"
      ],
      "text/plain": [
       "   PassengerId  Survived  Pclass  Sex   Age  SibSp  Parch     Fare\n",
       "0            1         0       3    0  22.0      1      0   7.2500\n",
       "1            2         1       1    1  38.0      1      0  71.2833\n",
       "2            3         1       3    1  26.0      0      0   7.9250\n",
       "3            4         1       1    1  35.0      1      0  53.1000\n",
       "4            5         0       3    0  35.0      0      0   8.0500"
      ]
     },
     "execution_count": 25,
     "metadata": {},
     "output_type": "execute_result"
    }
   ],
   "source": [
    "df = pd.read_csv('data/titanic_cleaning.csv')\n",
    "df.head()"
   ]
  },
  {
   "cell_type": "code",
   "execution_count": 26,
   "id": "bef29232",
   "metadata": {},
   "outputs": [
    {
     "data": {
      "text/plain": [
       "Index(['PassengerId', 'Survived', 'Pclass', 'Sex', 'Age', 'SibSp', 'Parch',\n",
       "       'Fare'],\n",
       "      dtype='object')"
      ]
     },
     "execution_count": 26,
     "metadata": {},
     "output_type": "execute_result"
    }
   ],
   "source": [
    "df.columns"
   ]
  },
  {
   "cell_type": "code",
   "execution_count": 28,
   "id": "f7cd3123",
   "metadata": {},
   "outputs": [],
   "source": [
    "features = [ 'Pclass', 'Sex', 'Age', 'SibSp', 'Parch','Fare']\n",
    "label = \"Survived\"\n",
    "\n",
    "X, y = df[features], df[label]"
   ]
  },
  {
   "cell_type": "markdown",
   "id": "53650adc",
   "metadata": {},
   "source": [
    "#### standardScaler"
   ]
  },
  {
   "cell_type": "code",
   "execution_count": 29,
   "id": "a66af9b2",
   "metadata": {},
   "outputs": [],
   "source": [
    "standard_s = StandardScaler()\n",
    "standard_s.fit( X )\n",
    "X_standard = standard_s.transform( X )"
   ]
  },
  {
   "cell_type": "markdown",
   "id": "67b0366f",
   "metadata": {},
   "source": [
    "#### min-max-scaler"
   ]
  },
  {
   "cell_type": "code",
   "execution_count": 30,
   "id": "ad9b99f8",
   "metadata": {},
   "outputs": [],
   "source": [
    "min_max_s = MinMaxScaler()\n",
    "min_max_s.fit( X )\n",
    "X_min_max = min_max_s.transform( X )"
   ]
  },
  {
   "cell_type": "markdown",
   "id": "31a9b4a9",
   "metadata": {},
   "source": [
    "#### 훈련 및 테스트 데이터 분리"
   ]
  },
  {
   "cell_type": "code",
   "execution_count": 31,
   "id": "6bf1c479",
   "metadata": {},
   "outputs": [],
   "source": [
    "# 스케일 없는 데이터\n",
    "X_train, X_test, y_train, y_test =\\\n",
    "                train_test_split(X, y, test_size=0.2 )\n",
    "\n",
    "#standard scaler\n",
    "X_train_s, X_test_s, y_train_s, y_test_s =\\\n",
    "                train_test_split(X_standard, y, test_size=0.2 )\n",
    "\n",
    "#min max scaler\n",
    "X_train_m, X_test_m, y_train_m, y_test_m =\\\n",
    "                train_test_split(X_min_max , y, test_size=0.2 )"
   ]
  },
  {
   "cell_type": "markdown",
   "id": "29a9f73a",
   "metadata": {},
   "source": [
    "### 모델 생성 및 평가\n",
    "\n",
    "#### svc-linear 모델"
   ]
  },
  {
   "cell_type": "code",
   "execution_count": 33,
   "id": "59f0857e",
   "metadata": {},
   "outputs": [
    {
     "name": "stdout",
     "output_type": "stream",
     "text": [
      "train :  0.7851123595505618\n",
      "test :  0.7932960893854749\n"
     ]
    }
   ],
   "source": [
    "from sklearn.svm import SVC\n",
    "\n",
    "svc_linear = SVC(kernel=\"linear\")\n",
    "\n",
    "svc_linear.fit( X_train, y_train )\n",
    "\n",
    "# 스케일 없는 데이터 셋\n",
    "print(\"train : \", svc_linear.score( X_train ,y_train) )\n",
    "print(\"test : \", svc_linear.score( X_test ,y_test) )"
   ]
  },
  {
   "cell_type": "markdown",
   "id": "471086a9",
   "metadata": {},
   "source": [
    "#### 스텐다드"
   ]
  },
  {
   "cell_type": "code",
   "execution_count": 34,
   "id": "7750e9ba",
   "metadata": {},
   "outputs": [
    {
     "name": "stdout",
     "output_type": "stream",
     "text": [
      "train :  0.776685393258427\n",
      "test :  0.8268156424581006\n"
     ]
    }
   ],
   "source": [
    "svc_linear = SVC(kernel=\"linear\")\n",
    "\n",
    "svc_linear.fit( X_train_s, y_train_s )\n",
    "\n",
    "# 스케일 없는 데이터 셋\n",
    "print(\"train : \", svc_linear.score( X_train_s ,y_train_s) )\n",
    "print(\"test : \", svc_linear.score( X_test_s ,y_test_s) )"
   ]
  },
  {
   "cell_type": "markdown",
   "id": "28ccc3e6",
   "metadata": {},
   "source": [
    "#### 민맥스"
   ]
  },
  {
   "cell_type": "code",
   "execution_count": 35,
   "id": "960ba979",
   "metadata": {},
   "outputs": [
    {
     "name": "stdout",
     "output_type": "stream",
     "text": [
      "train :  0.7907303370786517\n",
      "test :  0.770949720670391\n"
     ]
    }
   ],
   "source": [
    "svc_linear = SVC(kernel=\"linear\")\n",
    "\n",
    "svc_linear.fit( X_train_m, y_train_m )\n",
    "\n",
    "# 스케일 없는 데이터 셋\n",
    "print(\"train : \", svc_linear.score( X_train_m ,y_train_m) )\n",
    "print(\"test : \", svc_linear.score( X_test_m ,y_test_m) )"
   ]
  },
  {
   "cell_type": "code",
   "execution_count": null,
   "id": "8b319880",
   "metadata": {},
   "outputs": [],
   "source": []
  },
  {
   "cell_type": "code",
   "execution_count": null,
   "id": "8304d837",
   "metadata": {},
   "outputs": [],
   "source": []
  }
 ],
 "metadata": {
  "kernelspec": {
   "display_name": "Python 3 (ipykernel)",
   "language": "python",
   "name": "python3"
  },
  "language_info": {
   "codemirror_mode": {
    "name": "ipython",
    "version": 3
   },
   "file_extension": ".py",
   "mimetype": "text/x-python",
   "name": "python",
   "nbconvert_exporter": "python",
   "pygments_lexer": "ipython3",
   "version": "3.9.13"
  },
  "toc": {
   "base_numbering": 1,
   "nav_menu": {},
   "number_sections": true,
   "sideBar": true,
   "skip_h1_title": false,
   "title_cell": "Table of Contents",
   "title_sidebar": "Contents",
   "toc_cell": false,
   "toc_position": {},
   "toc_section_display": true,
   "toc_window_display": false
  }
 },
 "nbformat": 4,
 "nbformat_minor": 5
}
