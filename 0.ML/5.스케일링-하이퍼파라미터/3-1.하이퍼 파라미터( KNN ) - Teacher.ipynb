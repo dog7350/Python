{
 "cells": [
  {
   "cell_type": "markdown",
   "id": "ab2c86b8",
   "metadata": {},
   "source": [
    "### 하이퍼파라미터\n",
    "* 예측력을 높이기 위해 사용\n",
    "* 과대/과소 적합을 방지하기 위해 사용\n",
    "* 사용자가 지정하는 파라미터\n",
    "\n",
    "#### 하이퍼파라미터 튜닝\n",
    "* 특정 알고리즘의 매개변수 값을 변경하면서 최적의 파라미터를 찾는 방식\n",
    "* GridSearchCV클래스를 통해 하이퍼파라미터 탐색과 교차 검증을 한번에 수행\n",
    "\n",
    "#### GridSearchCV\n",
    "* 교차 검증으로 하이퍼파라미터 탐색을 수행한다\n",
    "* 최상의 모델을 찾은 후 훈련 세트 전체를 사용해 최종 모델을 훈련한다\n",
    "* 매개변수\n",
    "    - GridSearchCV(모델, param_grid = 파라미터, cv=반복횟수, n_jobs=코어 수(-1, 모든 코어 사용))"
   ]
  },
  {
   "cell_type": "markdown",
   "id": "4ee1fb2e",
   "metadata": {},
   "source": [
    "### K-최근접 이웃 알고리즘\n",
    "* 주위에서 가장 가까운 다른 데이터를 보고 현재 데이터를 판단\n",
    "\n",
    "#### 하이퍼파라미터\n",
    "* n_neighbors\n",
    "    - 기본 가까운 5개의 데이터를 보고 자기 자신이 어디에 속하는지를 판단\n",
    "    - 비교하고자 하는 데이터의 수가 적을 수록 과대 적합이 된다\n",
    "* metric : 거리계산 척도\n",
    "    - euclidean(녹색) : 유클리디안 거리 측정\n",
    "        * 목표 지점까지 가장 짧은 거리\n",
    "    - manhattan(빨간색) : 맨하튼 거리 측정 방법\n",
    "        * 찾아가는 경로의 모든 길이의 합\n",
    "* weights : 가중치\n",
    "    - uniform : 거리에 가중치 부여하지 않음(균일한 가중치)\n",
    "    - distance : 거리에 가중치 부여(가까이 있는 데이터에 가중치)"
   ]
  },
  {
   "cell_type": "markdown",
   "id": "b172d0d9",
   "metadata": {},
   "source": [
    "![IMG](images/거리척도.png)"
   ]
  },
  {
   "cell_type": "code",
   "execution_count": 1,
   "id": "817aa8d9",
   "metadata": {},
   "outputs": [],
   "source": [
    "from sklearn.neighbors import KNeighborsClassifier\n",
    "from sklearn.preprocessing import MinMaxScaler\n",
    "from sklearn.model_selection import train_test_split\n",
    "import pandas as pd\n",
    "\n",
    "import warnings\n",
    "warnings.filterwarnings(\"ignore\")"
   ]
  },
  {
   "cell_type": "code",
   "execution_count": 2,
   "id": "4dfb7b87",
   "metadata": {
    "collapsed": true
   },
   "outputs": [
    {
     "data": {
      "text/html": [
       "<div>\n",
       "<style scoped>\n",
       "    .dataframe tbody tr th:only-of-type {\n",
       "        vertical-align: middle;\n",
       "    }\n",
       "\n",
       "    .dataframe tbody tr th {\n",
       "        vertical-align: top;\n",
       "    }\n",
       "\n",
       "    .dataframe thead th {\n",
       "        text-align: right;\n",
       "    }\n",
       "</style>\n",
       "<table border=\"1\" class=\"dataframe\">\n",
       "  <thead>\n",
       "    <tr style=\"text-align: right;\">\n",
       "      <th></th>\n",
       "      <th>PassengerId</th>\n",
       "      <th>Survived</th>\n",
       "      <th>Pclass</th>\n",
       "      <th>Sex</th>\n",
       "      <th>Age</th>\n",
       "      <th>SibSp</th>\n",
       "      <th>Parch</th>\n",
       "      <th>Fare</th>\n",
       "    </tr>\n",
       "  </thead>\n",
       "  <tbody>\n",
       "    <tr>\n",
       "      <th>0</th>\n",
       "      <td>1</td>\n",
       "      <td>0</td>\n",
       "      <td>3</td>\n",
       "      <td>0</td>\n",
       "      <td>22.0</td>\n",
       "      <td>1</td>\n",
       "      <td>0</td>\n",
       "      <td>7.2500</td>\n",
       "    </tr>\n",
       "    <tr>\n",
       "      <th>1</th>\n",
       "      <td>2</td>\n",
       "      <td>1</td>\n",
       "      <td>1</td>\n",
       "      <td>1</td>\n",
       "      <td>38.0</td>\n",
       "      <td>1</td>\n",
       "      <td>0</td>\n",
       "      <td>71.2833</td>\n",
       "    </tr>\n",
       "    <tr>\n",
       "      <th>2</th>\n",
       "      <td>3</td>\n",
       "      <td>1</td>\n",
       "      <td>3</td>\n",
       "      <td>1</td>\n",
       "      <td>26.0</td>\n",
       "      <td>0</td>\n",
       "      <td>0</td>\n",
       "      <td>7.9250</td>\n",
       "    </tr>\n",
       "    <tr>\n",
       "      <th>3</th>\n",
       "      <td>4</td>\n",
       "      <td>1</td>\n",
       "      <td>1</td>\n",
       "      <td>1</td>\n",
       "      <td>35.0</td>\n",
       "      <td>1</td>\n",
       "      <td>0</td>\n",
       "      <td>53.1000</td>\n",
       "    </tr>\n",
       "    <tr>\n",
       "      <th>4</th>\n",
       "      <td>5</td>\n",
       "      <td>0</td>\n",
       "      <td>3</td>\n",
       "      <td>0</td>\n",
       "      <td>35.0</td>\n",
       "      <td>0</td>\n",
       "      <td>0</td>\n",
       "      <td>8.0500</td>\n",
       "    </tr>\n",
       "  </tbody>\n",
       "</table>\n",
       "</div>"
      ],
      "text/plain": [
       "   PassengerId  Survived  Pclass  Sex   Age  SibSp  Parch     Fare\n",
       "0            1         0       3    0  22.0      1      0   7.2500\n",
       "1            2         1       1    1  38.0      1      0  71.2833\n",
       "2            3         1       3    1  26.0      0      0   7.9250\n",
       "3            4         1       1    1  35.0      1      0  53.1000\n",
       "4            5         0       3    0  35.0      0      0   8.0500"
      ]
     },
     "execution_count": 2,
     "metadata": {},
     "output_type": "execute_result"
    }
   ],
   "source": [
    "df = pd.read_csv(\"data/titanic_cleaning.csv\")\n",
    "df.head()"
   ]
  },
  {
   "cell_type": "code",
   "execution_count": 3,
   "id": "32831d86",
   "metadata": {
    "collapsed": true
   },
   "outputs": [
    {
     "data": {
      "text/plain": [
       "Index(['PassengerId', 'Survived', 'Pclass', 'Sex', 'Age', 'SibSp', 'Parch',\n",
       "       'Fare'],\n",
       "      dtype='object')"
      ]
     },
     "execution_count": 3,
     "metadata": {},
     "output_type": "execute_result"
    }
   ],
   "source": [
    "df.columns"
   ]
  },
  {
   "cell_type": "code",
   "execution_count": 4,
   "id": "5f93d44e",
   "metadata": {},
   "outputs": [],
   "source": [
    "features = ['Pclass', 'Sex', 'Age', 'SibSp', 'Parch','Fare']\n",
    "label = \"Survived\"\n",
    "X, y = df[features], df[label]"
   ]
  },
  {
   "cell_type": "markdown",
   "id": "5b72dd95",
   "metadata": {},
   "source": [
    "### min max scaler"
   ]
  },
  {
   "cell_type": "code",
   "execution_count": 5,
   "id": "6798ebec",
   "metadata": {},
   "outputs": [],
   "source": [
    "minMaxScaler = MinMaxScaler()\n",
    "minMaxScaler.fit(X)\n",
    "X_scaler = minMaxScaler.transform( X )"
   ]
  },
  {
   "cell_type": "code",
   "execution_count": 6,
   "id": "1317b763",
   "metadata": {},
   "outputs": [],
   "source": [
    "X_train_minMax, X_test_minMax, y_train, y_test = train_test_split(X_scaler, y, test_size=0.2 )"
   ]
  },
  {
   "cell_type": "markdown",
   "id": "b4bb3602",
   "metadata": {},
   "source": [
    "### knn 모델 생성"
   ]
  },
  {
   "cell_type": "code",
   "execution_count": 7,
   "id": "4f7f222d",
   "metadata": {
    "collapsed": true
   },
   "outputs": [
    {
     "name": "stdout",
     "output_type": "stream",
     "text": [
      "train :  0.8553370786516854\n",
      "test :  0.8603351955307262\n"
     ]
    }
   ],
   "source": [
    "knn = KNeighborsClassifier();\n",
    "knn.fit( X_train_minMax, y_train )\n",
    "\n",
    "print(\"train : \", knn.score( X_train_minMax, y_train ) )\n",
    "print(\"test : \", knn.score( X_test_minMax, y_test ) )"
   ]
  },
  {
   "cell_type": "code",
   "execution_count": 8,
   "id": "884f6a06",
   "metadata": {
    "collapsed": true
   },
   "outputs": [
    {
     "name": "stdout",
     "output_type": "stream",
     "text": [
      "1, 2, 3, 4, 5, 6, 7, 8, 9, 10, 11, 12, 13, 14, 15, 16, 17, 18, 19, "
     ]
    }
   ],
   "source": [
    "k_param = range(1,20)\n",
    "\n",
    "for i in k_param:\n",
    "    print( i , end=\", \")"
   ]
  },
  {
   "cell_type": "code",
   "execution_count": 9,
   "id": "cff1e8cc",
   "metadata": {
    "collapsed": true
   },
   "outputs": [
    {
     "name": "stdout",
     "output_type": "stream",
     "text": [
      "train :  0.9845505617977528\n",
      "test :  0.7988826815642458\n"
     ]
    }
   ],
   "source": [
    "knn = KNeighborsClassifier( n_neighbors=1 )\n",
    "knn.fit(X_train_minMax, y_train )\n",
    "\n",
    "print(\"train : \", knn.score( X_train_minMax, y_train ) )\n",
    "print(\"test : \", knn.score( X_test_minMax, y_test ) )"
   ]
  },
  {
   "cell_type": "code",
   "execution_count": 10,
   "id": "d54326f4",
   "metadata": {
    "collapsed": true
   },
   "outputs": [
    {
     "name": "stdout",
     "output_type": "stream",
     "text": [
      "train :  0.8904494382022472\n",
      "test :  0.8324022346368715\n"
     ]
    }
   ],
   "source": [
    "knn = KNeighborsClassifier( n_neighbors=2 )\n",
    "knn.fit(X_train_minMax, y_train )\n",
    "print(\"train : \", knn.score( X_train_minMax, y_train ) )\n",
    "print(\"test : \", knn.score( X_test_minMax, y_test ) )"
   ]
  },
  {
   "cell_type": "code",
   "execution_count": 11,
   "id": "f6d37614",
   "metadata": {
    "collapsed": true
   },
   "outputs": [
    {
     "name": "stdout",
     "output_type": "stream",
     "text": [
      "train :  0.8848314606741573\n",
      "test :  0.8212290502793296\n"
     ]
    }
   ],
   "source": [
    "knn = KNeighborsClassifier( n_neighbors=3 )\n",
    "knn.fit(X_train_minMax, y_train )\n",
    "print(\"train : \", knn.score( X_train_minMax, y_train ) )\n",
    "print(\"test : \", knn.score( X_test_minMax, y_test ) )"
   ]
  },
  {
   "cell_type": "code",
   "execution_count": 12,
   "id": "82e1787a",
   "metadata": {
    "collapsed": true
   },
   "outputs": [
    {
     "data": {
      "text/html": [
       "<div>\n",
       "<style scoped>\n",
       "    .dataframe tbody tr th:only-of-type {\n",
       "        vertical-align: middle;\n",
       "    }\n",
       "\n",
       "    .dataframe tbody tr th {\n",
       "        vertical-align: top;\n",
       "    }\n",
       "\n",
       "    .dataframe thead th {\n",
       "        text-align: right;\n",
       "    }\n",
       "</style>\n",
       "<table border=\"1\" class=\"dataframe\">\n",
       "  <thead>\n",
       "    <tr style=\"text-align: right;\">\n",
       "      <th></th>\n",
       "      <th>k</th>\n",
       "      <th>다른</th>\n",
       "    </tr>\n",
       "  </thead>\n",
       "  <tbody>\n",
       "    <tr>\n",
       "      <th>0</th>\n",
       "      <td>1</td>\n",
       "      <td>1</td>\n",
       "    </tr>\n",
       "    <tr>\n",
       "      <th>1</th>\n",
       "      <td>2</td>\n",
       "      <td>2</td>\n",
       "    </tr>\n",
       "    <tr>\n",
       "      <th>2</th>\n",
       "      <td>3</td>\n",
       "      <td>3</td>\n",
       "    </tr>\n",
       "    <tr>\n",
       "      <th>3</th>\n",
       "      <td>4</td>\n",
       "      <td>4</td>\n",
       "    </tr>\n",
       "    <tr>\n",
       "      <th>4</th>\n",
       "      <td>5</td>\n",
       "      <td>5</td>\n",
       "    </tr>\n",
       "    <tr>\n",
       "      <th>5</th>\n",
       "      <td>6</td>\n",
       "      <td>6</td>\n",
       "    </tr>\n",
       "    <tr>\n",
       "      <th>6</th>\n",
       "      <td>7</td>\n",
       "      <td>7</td>\n",
       "    </tr>\n",
       "    <tr>\n",
       "      <th>7</th>\n",
       "      <td>8</td>\n",
       "      <td>8</td>\n",
       "    </tr>\n",
       "    <tr>\n",
       "      <th>8</th>\n",
       "      <td>9</td>\n",
       "      <td>9</td>\n",
       "    </tr>\n",
       "    <tr>\n",
       "      <th>9</th>\n",
       "      <td>10</td>\n",
       "      <td>10</td>\n",
       "    </tr>\n",
       "    <tr>\n",
       "      <th>10</th>\n",
       "      <td>11</td>\n",
       "      <td>11</td>\n",
       "    </tr>\n",
       "    <tr>\n",
       "      <th>11</th>\n",
       "      <td>12</td>\n",
       "      <td>12</td>\n",
       "    </tr>\n",
       "    <tr>\n",
       "      <th>12</th>\n",
       "      <td>13</td>\n",
       "      <td>13</td>\n",
       "    </tr>\n",
       "    <tr>\n",
       "      <th>13</th>\n",
       "      <td>14</td>\n",
       "      <td>14</td>\n",
       "    </tr>\n",
       "    <tr>\n",
       "      <th>14</th>\n",
       "      <td>15</td>\n",
       "      <td>15</td>\n",
       "    </tr>\n",
       "    <tr>\n",
       "      <th>15</th>\n",
       "      <td>16</td>\n",
       "      <td>16</td>\n",
       "    </tr>\n",
       "    <tr>\n",
       "      <th>16</th>\n",
       "      <td>17</td>\n",
       "      <td>17</td>\n",
       "    </tr>\n",
       "    <tr>\n",
       "      <th>17</th>\n",
       "      <td>18</td>\n",
       "      <td>18</td>\n",
       "    </tr>\n",
       "    <tr>\n",
       "      <th>18</th>\n",
       "      <td>19</td>\n",
       "      <td>19</td>\n",
       "    </tr>\n",
       "  </tbody>\n",
       "</table>\n",
       "</div>"
      ],
      "text/plain": [
       "     k  다른\n",
       "0    1   1\n",
       "1    2   2\n",
       "2    3   3\n",
       "3    4   4\n",
       "4    5   5\n",
       "5    6   6\n",
       "6    7   7\n",
       "7    8   8\n",
       "8    9   9\n",
       "9   10  10\n",
       "10  11  11\n",
       "11  12  12\n",
       "12  13  13\n",
       "13  14  14\n",
       "14  15  15\n",
       "15  16  16\n",
       "16  17  17\n",
       "17  18  18\n",
       "18  19  19"
      ]
     },
     "execution_count": 12,
     "metadata": {},
     "output_type": "execute_result"
    }
   ],
   "source": [
    "dic = { \"k\" : k_param , \"다른\" : k_param}\n",
    "pd.DataFrame( dic )"
   ]
  },
  {
   "cell_type": "code",
   "execution_count": 13,
   "id": "f59d125e",
   "metadata": {
    "collapsed": true
   },
   "outputs": [
    {
     "data": {
      "text/plain": [
       "[100, 200, '안녕']"
      ]
     },
     "execution_count": 13,
     "metadata": {},
     "output_type": "execute_result"
    }
   ],
   "source": [
    "test = []\n",
    "\n",
    "test.append( 100 );\n",
    "test.append( 200 );\n",
    "test.append( \"안녕\" );\n",
    "\n",
    "test"
   ]
  },
  {
   "cell_type": "code",
   "execution_count": 14,
   "id": "af49d693",
   "metadata": {
    "collapsed": true
   },
   "outputs": [
    {
     "data": {
      "text/html": [
       "<div>\n",
       "<style scoped>\n",
       "    .dataframe tbody tr th:only-of-type {\n",
       "        vertical-align: middle;\n",
       "    }\n",
       "\n",
       "    .dataframe tbody tr th {\n",
       "        vertical-align: top;\n",
       "    }\n",
       "\n",
       "    .dataframe thead th {\n",
       "        text-align: right;\n",
       "    }\n",
       "</style>\n",
       "<table border=\"1\" class=\"dataframe\">\n",
       "  <thead>\n",
       "    <tr style=\"text-align: right;\">\n",
       "      <th></th>\n",
       "      <th>k</th>\n",
       "      <th>test</th>\n",
       "    </tr>\n",
       "  </thead>\n",
       "  <tbody>\n",
       "    <tr>\n",
       "      <th>0</th>\n",
       "      <td>1</td>\n",
       "      <td>100</td>\n",
       "    </tr>\n",
       "    <tr>\n",
       "      <th>1</th>\n",
       "      <td>2</td>\n",
       "      <td>200</td>\n",
       "    </tr>\n",
       "    <tr>\n",
       "      <th>2</th>\n",
       "      <td>3</td>\n",
       "      <td>안녕</td>\n",
       "    </tr>\n",
       "  </tbody>\n",
       "</table>\n",
       "</div>"
      ],
      "text/plain": [
       "   k test\n",
       "0  1  100\n",
       "1  2  200\n",
       "2  3   안녕"
      ]
     },
     "execution_count": 14,
     "metadata": {},
     "output_type": "execute_result"
    }
   ],
   "source": [
    "dic = { \"k\": [ 1, 2, 3 ] , \"test\":test }\n",
    "pd.DataFrame( dic )"
   ]
  },
  {
   "cell_type": "code",
   "execution_count": 15,
   "id": "ac5609a6",
   "metadata": {
    "collapsed": true
   },
   "outputs": [
    {
     "data": {
      "text/html": [
       "<div>\n",
       "<style scoped>\n",
       "    .dataframe tbody tr th:only-of-type {\n",
       "        vertical-align: middle;\n",
       "    }\n",
       "\n",
       "    .dataframe tbody tr th {\n",
       "        vertical-align: top;\n",
       "    }\n",
       "\n",
       "    .dataframe thead th {\n",
       "        text-align: right;\n",
       "    }\n",
       "</style>\n",
       "<table border=\"1\" class=\"dataframe\">\n",
       "  <thead>\n",
       "    <tr style=\"text-align: right;\">\n",
       "      <th></th>\n",
       "      <th>num</th>\n",
       "      <th>train score</th>\n",
       "      <th>test score</th>\n",
       "    </tr>\n",
       "  </thead>\n",
       "  <tbody>\n",
       "    <tr>\n",
       "      <th>0</th>\n",
       "      <td>1</td>\n",
       "      <td>0.984551</td>\n",
       "      <td>0.798883</td>\n",
       "    </tr>\n",
       "    <tr>\n",
       "      <th>1</th>\n",
       "      <td>2</td>\n",
       "      <td>0.890449</td>\n",
       "      <td>0.832402</td>\n",
       "    </tr>\n",
       "    <tr>\n",
       "      <th>2</th>\n",
       "      <td>3</td>\n",
       "      <td>0.884831</td>\n",
       "      <td>0.821229</td>\n",
       "    </tr>\n",
       "    <tr>\n",
       "      <th>3</th>\n",
       "      <td>4</td>\n",
       "      <td>0.863764</td>\n",
       "      <td>0.843575</td>\n",
       "    </tr>\n",
       "    <tr>\n",
       "      <th>4</th>\n",
       "      <td>5</td>\n",
       "      <td>0.855337</td>\n",
       "      <td>0.860335</td>\n",
       "    </tr>\n",
       "    <tr>\n",
       "      <th>5</th>\n",
       "      <td>6</td>\n",
       "      <td>0.849719</td>\n",
       "      <td>0.837989</td>\n",
       "    </tr>\n",
       "    <tr>\n",
       "      <th>6</th>\n",
       "      <td>7</td>\n",
       "      <td>0.841292</td>\n",
       "      <td>0.843575</td>\n",
       "    </tr>\n",
       "    <tr>\n",
       "      <th>7</th>\n",
       "      <td>8</td>\n",
       "      <td>0.832865</td>\n",
       "      <td>0.832402</td>\n",
       "    </tr>\n",
       "    <tr>\n",
       "      <th>8</th>\n",
       "      <td>9</td>\n",
       "      <td>0.825843</td>\n",
       "      <td>0.832402</td>\n",
       "    </tr>\n",
       "    <tr>\n",
       "      <th>9</th>\n",
       "      <td>10</td>\n",
       "      <td>0.827247</td>\n",
       "      <td>0.826816</td>\n",
       "    </tr>\n",
       "    <tr>\n",
       "      <th>10</th>\n",
       "      <td>11</td>\n",
       "      <td>0.825843</td>\n",
       "      <td>0.826816</td>\n",
       "    </tr>\n",
       "    <tr>\n",
       "      <th>11</th>\n",
       "      <td>12</td>\n",
       "      <td>0.820225</td>\n",
       "      <td>0.832402</td>\n",
       "    </tr>\n",
       "    <tr>\n",
       "      <th>12</th>\n",
       "      <td>13</td>\n",
       "      <td>0.830056</td>\n",
       "      <td>0.832402</td>\n",
       "    </tr>\n",
       "    <tr>\n",
       "      <th>13</th>\n",
       "      <td>14</td>\n",
       "      <td>0.814607</td>\n",
       "      <td>0.815642</td>\n",
       "    </tr>\n",
       "    <tr>\n",
       "      <th>14</th>\n",
       "      <td>15</td>\n",
       "      <td>0.811798</td>\n",
       "      <td>0.793296</td>\n",
       "    </tr>\n",
       "    <tr>\n",
       "      <th>15</th>\n",
       "      <td>16</td>\n",
       "      <td>0.806180</td>\n",
       "      <td>0.804469</td>\n",
       "    </tr>\n",
       "    <tr>\n",
       "      <th>16</th>\n",
       "      <td>17</td>\n",
       "      <td>0.804775</td>\n",
       "      <td>0.798883</td>\n",
       "    </tr>\n",
       "    <tr>\n",
       "      <th>17</th>\n",
       "      <td>18</td>\n",
       "      <td>0.796348</td>\n",
       "      <td>0.776536</td>\n",
       "    </tr>\n",
       "    <tr>\n",
       "      <th>18</th>\n",
       "      <td>19</td>\n",
       "      <td>0.801966</td>\n",
       "      <td>0.782123</td>\n",
       "    </tr>\n",
       "    <tr>\n",
       "      <th>19</th>\n",
       "      <td>20</td>\n",
       "      <td>0.799157</td>\n",
       "      <td>0.793296</td>\n",
       "    </tr>\n",
       "    <tr>\n",
       "      <th>20</th>\n",
       "      <td>21</td>\n",
       "      <td>0.804775</td>\n",
       "      <td>0.804469</td>\n",
       "    </tr>\n",
       "    <tr>\n",
       "      <th>21</th>\n",
       "      <td>22</td>\n",
       "      <td>0.800562</td>\n",
       "      <td>0.810056</td>\n",
       "    </tr>\n",
       "    <tr>\n",
       "      <th>22</th>\n",
       "      <td>23</td>\n",
       "      <td>0.801966</td>\n",
       "      <td>0.815642</td>\n",
       "    </tr>\n",
       "    <tr>\n",
       "      <th>23</th>\n",
       "      <td>24</td>\n",
       "      <td>0.804775</td>\n",
       "      <td>0.815642</td>\n",
       "    </tr>\n",
       "    <tr>\n",
       "      <th>24</th>\n",
       "      <td>25</td>\n",
       "      <td>0.801966</td>\n",
       "      <td>0.810056</td>\n",
       "    </tr>\n",
       "    <tr>\n",
       "      <th>25</th>\n",
       "      <td>26</td>\n",
       "      <td>0.804775</td>\n",
       "      <td>0.810056</td>\n",
       "    </tr>\n",
       "    <tr>\n",
       "      <th>26</th>\n",
       "      <td>27</td>\n",
       "      <td>0.804775</td>\n",
       "      <td>0.804469</td>\n",
       "    </tr>\n",
       "    <tr>\n",
       "      <th>27</th>\n",
       "      <td>28</td>\n",
       "      <td>0.803371</td>\n",
       "      <td>0.810056</td>\n",
       "    </tr>\n",
       "    <tr>\n",
       "      <th>28</th>\n",
       "      <td>29</td>\n",
       "      <td>0.801966</td>\n",
       "      <td>0.798883</td>\n",
       "    </tr>\n",
       "    <tr>\n",
       "      <th>29</th>\n",
       "      <td>30</td>\n",
       "      <td>0.801966</td>\n",
       "      <td>0.793296</td>\n",
       "    </tr>\n",
       "    <tr>\n",
       "      <th>30</th>\n",
       "      <td>31</td>\n",
       "      <td>0.801966</td>\n",
       "      <td>0.798883</td>\n",
       "    </tr>\n",
       "    <tr>\n",
       "      <th>31</th>\n",
       "      <td>32</td>\n",
       "      <td>0.801966</td>\n",
       "      <td>0.793296</td>\n",
       "    </tr>\n",
       "    <tr>\n",
       "      <th>32</th>\n",
       "      <td>33</td>\n",
       "      <td>0.800562</td>\n",
       "      <td>0.787709</td>\n",
       "    </tr>\n",
       "    <tr>\n",
       "      <th>33</th>\n",
       "      <td>34</td>\n",
       "      <td>0.801966</td>\n",
       "      <td>0.787709</td>\n",
       "    </tr>\n",
       "    <tr>\n",
       "      <th>34</th>\n",
       "      <td>35</td>\n",
       "      <td>0.799157</td>\n",
       "      <td>0.782123</td>\n",
       "    </tr>\n",
       "    <tr>\n",
       "      <th>35</th>\n",
       "      <td>36</td>\n",
       "      <td>0.803371</td>\n",
       "      <td>0.787709</td>\n",
       "    </tr>\n",
       "    <tr>\n",
       "      <th>36</th>\n",
       "      <td>37</td>\n",
       "      <td>0.800562</td>\n",
       "      <td>0.798883</td>\n",
       "    </tr>\n",
       "    <tr>\n",
       "      <th>37</th>\n",
       "      <td>38</td>\n",
       "      <td>0.801966</td>\n",
       "      <td>0.798883</td>\n",
       "    </tr>\n",
       "    <tr>\n",
       "      <th>38</th>\n",
       "      <td>39</td>\n",
       "      <td>0.799157</td>\n",
       "      <td>0.804469</td>\n",
       "    </tr>\n",
       "    <tr>\n",
       "      <th>39</th>\n",
       "      <td>40</td>\n",
       "      <td>0.799157</td>\n",
       "      <td>0.804469</td>\n",
       "    </tr>\n",
       "    <tr>\n",
       "      <th>40</th>\n",
       "      <td>41</td>\n",
       "      <td>0.801966</td>\n",
       "      <td>0.810056</td>\n",
       "    </tr>\n",
       "    <tr>\n",
       "      <th>41</th>\n",
       "      <td>42</td>\n",
       "      <td>0.799157</td>\n",
       "      <td>0.804469</td>\n",
       "    </tr>\n",
       "    <tr>\n",
       "      <th>42</th>\n",
       "      <td>43</td>\n",
       "      <td>0.803371</td>\n",
       "      <td>0.815642</td>\n",
       "    </tr>\n",
       "    <tr>\n",
       "      <th>43</th>\n",
       "      <td>44</td>\n",
       "      <td>0.797753</td>\n",
       "      <td>0.815642</td>\n",
       "    </tr>\n",
       "    <tr>\n",
       "      <th>44</th>\n",
       "      <td>45</td>\n",
       "      <td>0.800562</td>\n",
       "      <td>0.821229</td>\n",
       "    </tr>\n",
       "    <tr>\n",
       "      <th>45</th>\n",
       "      <td>46</td>\n",
       "      <td>0.800562</td>\n",
       "      <td>0.821229</td>\n",
       "    </tr>\n",
       "    <tr>\n",
       "      <th>46</th>\n",
       "      <td>47</td>\n",
       "      <td>0.800562</td>\n",
       "      <td>0.821229</td>\n",
       "    </tr>\n",
       "    <tr>\n",
       "      <th>47</th>\n",
       "      <td>48</td>\n",
       "      <td>0.801966</td>\n",
       "      <td>0.821229</td>\n",
       "    </tr>\n",
       "    <tr>\n",
       "      <th>48</th>\n",
       "      <td>49</td>\n",
       "      <td>0.803371</td>\n",
       "      <td>0.821229</td>\n",
       "    </tr>\n",
       "  </tbody>\n",
       "</table>\n",
       "</div>"
      ],
      "text/plain": [
       "    num  train score  test score\n",
       "0     1     0.984551    0.798883\n",
       "1     2     0.890449    0.832402\n",
       "2     3     0.884831    0.821229\n",
       "3     4     0.863764    0.843575\n",
       "4     5     0.855337    0.860335\n",
       "5     6     0.849719    0.837989\n",
       "6     7     0.841292    0.843575\n",
       "7     8     0.832865    0.832402\n",
       "8     9     0.825843    0.832402\n",
       "9    10     0.827247    0.826816\n",
       "10   11     0.825843    0.826816\n",
       "11   12     0.820225    0.832402\n",
       "12   13     0.830056    0.832402\n",
       "13   14     0.814607    0.815642\n",
       "14   15     0.811798    0.793296\n",
       "15   16     0.806180    0.804469\n",
       "16   17     0.804775    0.798883\n",
       "17   18     0.796348    0.776536\n",
       "18   19     0.801966    0.782123\n",
       "19   20     0.799157    0.793296\n",
       "20   21     0.804775    0.804469\n",
       "21   22     0.800562    0.810056\n",
       "22   23     0.801966    0.815642\n",
       "23   24     0.804775    0.815642\n",
       "24   25     0.801966    0.810056\n",
       "25   26     0.804775    0.810056\n",
       "26   27     0.804775    0.804469\n",
       "27   28     0.803371    0.810056\n",
       "28   29     0.801966    0.798883\n",
       "29   30     0.801966    0.793296\n",
       "30   31     0.801966    0.798883\n",
       "31   32     0.801966    0.793296\n",
       "32   33     0.800562    0.787709\n",
       "33   34     0.801966    0.787709\n",
       "34   35     0.799157    0.782123\n",
       "35   36     0.803371    0.787709\n",
       "36   37     0.800562    0.798883\n",
       "37   38     0.801966    0.798883\n",
       "38   39     0.799157    0.804469\n",
       "39   40     0.799157    0.804469\n",
       "40   41     0.801966    0.810056\n",
       "41   42     0.799157    0.804469\n",
       "42   43     0.803371    0.815642\n",
       "43   44     0.797753    0.815642\n",
       "44   45     0.800562    0.821229\n",
       "45   46     0.800562    0.821229\n",
       "46   47     0.800562    0.821229\n",
       "47   48     0.801966    0.821229\n",
       "48   49     0.803371    0.821229"
      ]
     },
     "execution_count": 15,
     "metadata": {},
     "output_type": "execute_result"
    }
   ],
   "source": [
    "k_param = range( 1 , 50 )\n",
    "train_list = []\n",
    "test_list = []\n",
    "num_list = []\n",
    "\n",
    "for num in k_param:\n",
    "    knn = KNeighborsClassifier( n_neighbors = num )\n",
    "    knn.fit(X_train_minMax, y_train )\n",
    "    \n",
    "    num_list.append( num )\n",
    "    train_list.append( knn.score(X_train_minMax, y_train) )\n",
    "    test_list.append( knn.score(X_test_minMax, y_test) )\n",
    "    \n",
    "dic = { \"num\" : num_list , \n",
    "       \"train score\" : train_list , \n",
    "       \"test score\" : test_list \n",
    "      }\n",
    "score_df = pd.DataFrame( dic )\n",
    "score_df"
   ]
  },
  {
   "cell_type": "code",
   "execution_count": 16,
   "id": "66a757c8",
   "metadata": {
    "collapsed": true
   },
   "outputs": [
    {
     "data": {
      "text/plain": [
       "<Axes: xlabel='num', ylabel='train score'>"
      ]
     },
     "execution_count": 16,
     "metadata": {},
     "output_type": "execute_result"
    },
    {
     "data": {
      "image/png": "[encoded data removed]",
      "text/plain": [
       "<Figure size 500x500 with 1 Axes>"
      ]
     },
     "metadata": {},
     "output_type": "display_data"
    }
   ],
   "source": [
    "import matplotlib.pyplot as plt\n",
    "import seaborn as sns\n",
    "\n",
    "plt.rc('font', family=\"Malgun Gothic\")\n",
    "plt.subplots( figsize=(5,5) )\n",
    "\n",
    "sns.lineplot( x=\"num\", y=\"train score\", data=score_df)\n",
    "sns.lineplot( x=\"num\", y=\"test score\", data=score_df)"
   ]
  },
  {
   "cell_type": "markdown",
   "id": "d1d3f171",
   "metadata": {},
   "source": [
    "### GridSearchCV\n",
    "\n",
    "* GridSearchCV( 모델 , param_grid=파라미터 , cv=폴드 수(반복 횟수), n_jobs=코어수  )"
   ]
  },
  {
   "cell_type": "code",
   "execution_count": 17,
   "id": "9f0505d5",
   "metadata": {},
   "outputs": [
    {
     "name": "stdout",
     "output_type": "stream",
     "text": [
      "최적의 하이퍼 파라미터 :  {'n_neighbors': 2}\n",
      "최고 예측력 :  0.818881118881119\n",
      "train :  0.8904494382022472\n",
      "test :  0.8324022346368715\n"
     ]
    }
   ],
   "source": [
    "from sklearn.model_selection import GridSearchCV\n",
    "\n",
    "k_param = range( 1 , 11 )\n",
    "params = { \"n_neighbors\" : k_param }\n",
    "knn = KNeighborsClassifier()\n",
    "\n",
    "grid_cv = GridSearchCV(knn, param_grid=params, cv=5, n_jobs=-1 )\n",
    "grid_cv.fit( X_train_minMax, y_train )\n",
    "\n",
    "print(\"최적의 하이퍼 파라미터 : \", grid_cv.best_params_ )\n",
    "print(\"최고 예측력 : \", grid_cv.best_score_)\n",
    "\n",
    "print( \"train : \", grid_cv.score(X_train_minMax, y_train) )\n",
    "print( \"test : \", grid_cv.score(X_test_minMax, y_test) )"
   ]
  },
  {
   "cell_type": "code",
   "execution_count": 18,
   "id": "6cb11260",
   "metadata": {},
   "outputs": [
    {
     "name": "stdout",
     "output_type": "stream",
     "text": [
      "최적의 하이퍼 파라미터 :  {'metric': 'euclidean', 'n_neighbors': 2, 'weights': 'uniform'}\n",
      "train :  0.8904494382022472\n",
      "test :  0.8324022346368715\n"
     ]
    }
   ],
   "source": [
    "params = {\n",
    "    \"n_neighbors\" : range(1, 1000),\n",
    "    \"metric\" : [\"manhattan\", \"euclidean\"],\n",
    "    \"weights\" : [\"uniform\", \"distance\"]\n",
    "}\n",
    "grid_cv = GridSearchCV(knn, param_grid=params, cv=5, n_jobs=-1)\n",
    "grid_cv.fit( X_train_minMax, y_train )\n",
    "\n",
    "print(\"최적의 하이퍼 파라미터 : \", grid_cv.best_params_ )\n",
    "\n",
    "print(\"train : \", grid_cv.score( X_train_minMax, y_train))\n",
    "print(\"test : \", grid_cv.score( X_test_minMax, y_test))"
   ]
  },
  {
   "cell_type": "code",
   "execution_count": null,
   "id": "d14b6506",
   "metadata": {},
   "outputs": [],
   "source": []
  }
 ],
 "metadata": {
  "kernelspec": {
   "display_name": "Python 3 (ipykernel)",
   "language": "python",
   "name": "python3"
  },
  "language_info": {
   "codemirror_mode": {
    "name": "ipython",
    "version": 3
   },
   "file_extension": ".py",
   "mimetype": "text/x-python",
   "name": "python",
   "nbconvert_exporter": "python",
   "pygments_lexer": "ipython3",
   "version": "3.11.4"
  },
  "toc": {
   "base_numbering": 1,
   "nav_menu": {},
   "number_sections": true,
   "sideBar": true,
   "skip_h1_title": false,
   "title_cell": "Table of Contents",
   "title_sidebar": "Contents",
   "toc_cell": false,
   "toc_position": {},
   "toc_section_display": true,
   "toc_window_display": false
  }
 },
 "nbformat": 4,
 "nbformat_minor": 5
}
